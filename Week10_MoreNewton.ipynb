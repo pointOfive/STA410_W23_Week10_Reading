{
  "nbformat": 4,
  "nbformat_minor": 0,
  "metadata": {
    "colab": {
      "provenance": []
    },
    "kernelspec": {
      "name": "python3",
      "display_name": "Python 3"
    },
    "language_info": {
      "name": "python"
    }
  },
  "cells": [
    {
      "cell_type": "markdown",
      "source": [
        "<a name=\"cell-TOC-opt\"></a>\n",
        "\n",
        "### 10. [A Closer look at Newton's Method](#cell-opt-fx-)\n",
        "  0. [Some Uses of Newton's Method](#cell-opt-fx-2)\n",
        "    0. [Sandwich Estimator](#cell-opt-fx-sandwich)\n",
        "    1. [M Estimation](#cell-opt-fx-m-est)\n",
        "      - [Huber Loss](#cell-opt-fx-huber): Week 10 Programming Assignment Problem 2\n",
        "    2. [Gauss-Newton](#cell-opt-fx-gauss-newton)\n",
        "  1. [Altering Newton's Methods](#cell-opt-fx-3)\n",
        "\n",
        "    0. [Newton-Like Methods](#cell-opt-fx-newtonlike)\n",
        "      - [Ensuring Monotonic Iteration](#cell-opt-fx-newton-like-ascent)\n",
        "    1. [Quasi-Newton Methods](#cell-opt-fx-quasi-newton)\n",
        "    2. [Gradient Methods](#cell-opt-fx-common-optimization-algorithms)\n",
        "      - [Hessian Diagonal Alternatives](#cell-opt-fx-common-optimization-algorithms2)\n",
        "    3. [Fisher Scoring](#cell-opt-fx-fisher)\n",
        "      - [Iteratively Reweighted Least Squares (IRLS)](#cell-opt-fx-irls): Week 10 Programming Assignment Problem 1\n",
        "      - [Quasi-Likelihoods](#cell-opt-fx-quasi)\n",
        "      - [Modified Newton Methods](#cell-opt-fx-modified-newton)\n",
        "    \n",
        "  2. [Not Newton's Method](#cell-opt-fx-notnewt)\n",
        "    0. [Nelder-Mead](#cell-opt-fx-nelder-mead)\n",
        "    1. ~Combinatorial (Discrete) Optimzation~\n",
        "      - ~Simulated Annealing~\n",
        "    2. ~Constrained optimization~\n",
        "      - ~Expectation-Maximization~\n",
        "      - ~Interior and Exterior Point Algorithms~\n"
      ],
      "metadata": {
        "id": "x0jz-iiBbGxA"
      }
    },
    {
      "cell_type": "code",
      "source": [
        "import numpy as np\n",
        "import matplotlib.pyplot as plt\n",
        "import plotly.graph_objects as go\n",
        "from plotly.subplots import make_subplots\n",
        "\n",
        "from scipy.optimize import fmin_l_bfgs_b\n",
        "import tensorflow as tf\n",
        "from tensorflow.keras.optimizers import Adam\n",
        "from tensorflow.keras.optimizers.legacy import SGD, Adagrad, RMSprop"
      ],
      "metadata": {
        "id": "akApiXS1TNyf"
      },
      "execution_count": null,
      "outputs": []
    },
    {
      "cell_type": "markdown",
      "source": [
        "<a name=\"cell-opt-fx-\"></a>\n",
        "\n",
        "# 10. A Closer Look at Newton's Method ([Return to TOC](#cell-TOC-opt)) \n",
        "---\n",
        "\n",
        "Essentially all derivative-based optimization methods can be viewed as some sort of approximation or simplification of ***Newton's method*** in order to either (a) reduce the computational cost or (b) extend the usefulness of Newton's method into the context of ***non-convex*** functions.\n"
      ],
      "metadata": {
        "id": "QBATr3PDNx4B"
      }
    },
    {
      "cell_type": "markdown",
      "source": [
        "<a name=\"cell-opt-fx-2\"></a>\n",
        "\n",
        "# 10.0 Some Uses of Newton's Method ([Return to TOC](#cell-TOC-opt)) \n",
        "---\n",
        "\n",
        "There are many situations where ***Newton's method*** isn't computationally prohibitive and the functions of interest are reasonably ***convex***.  In these cases, using ***Newton's method*** can be very effective and provides some interesting and useful results as shown by the following examples. \n"
      ],
      "metadata": {
        "id": "SqUAcWRlOQDq"
      }
    },
    {
      "cell_type": "markdown",
      "source": [
        "<a name=\"cell-opt-fx-sandwich\"></a>\n",
        "\n",
        "## 10.0.0 Sandwich Estimator ([Return to TOC](#cell-TOC-opt)) \n",
        "\n",
        "---\n",
        "\n",
        "*Uncertainty estimation can be facilitated by ***Newton's method***.*\n",
        "\n",
        "The maximization of the ***log likelihood*** \n",
        "\n",
        "$$g(\\theta) = \\log f(x|\\theta) = \\sum_{i=1}^n \\log f(x_i|\\theta) = \\sum_{i=1}^n g_i(\\theta)$$\n",
        "\n",
        "by ***Newton's Method*** is\n",
        "\n",
        "\\begin{align*}\n",
        "\\theta^{(t+1)} & = {} \\theta^{(t)} - \\frac{g'(\\theta^{(t)})}{g''(\\theta^{(t)})}\\\\\n",
        "& = {} \\theta^{(t)} -  \\frac{ \\sum_{i=1}^n  g_i'(\\theta^{(t)})}{ \\sum_{i=1}^n  g_i''(\\theta^{(t)})} \\\\\n",
        "& = {} \\sum_{i=1}^n \\frac{g_i''(\\theta^{(t)})}{\\sum_{j=1}^n g_j''(\\theta^{(t)})} \\left( \\theta^{(t)} + \\frac{g_i'(\\theta^{(t)})}{g_i''(\\theta^{(t)})} \\right) \\\\\n",
        "& = {} \\sum_{i=1}^n w_j\\left( \\theta^{(t)} + \\frac{g_i'(\\theta^{(t)})}{g_i''(\\theta^{(t)})} \\right) \\\\\n",
        "\\end{align*}\n",
        "\n",
        "which is a weighted average.\n",
        "\n",
        "At convergence the variance of the pseudo sample $\\left\\{\\theta^{*} + \\frac{g_i'(\\theta^{*})}{g_i''(\\theta^{*})}: i=1,\\cdots,n \\right\\}$$\\require{cancel}$ is \n",
        "\n",
        "\\begin{align*}\n",
        "\\hat \\sigma^2 & = {} \\sum_{i=1}^n \\frac{g_i''(\\theta^{*})^2}{\\left(\\sum_{j=1}^n g_j''(\\theta^{*})\\right)^2 } \\left(\\theta^{*} + \\frac{g_i'(\\theta^{*})}{g_i''(\\theta^{*})}  - \\cancel{\\text{E}\\left[\\theta^{*} + \\frac{g_i'(\\theta^{*})}{g_i''(\\theta^{*})}\\right]}^{\\theta^{*}}\\right)^2\\\\\n",
        "& = {}  \\sum_{i=1}^n \\frac{g_i''(\\theta^{*})^2}{\\left(\\sum_{j=1}^n g_j''(\\theta^{*})\\right)^2 } \\left(\\frac{g_i'(\\theta^{*})}{g_i''(\\theta^{*})}\\right)^2 = \\frac{ \\sum_{i=1}^n g_i'(\\theta^{*})^2}{\\left(\\sum_{j=1}^n g_j''(\\theta^{(t)})\\right)^2 }\n",
        "\\end{align*}\n",
        "\n",
        "which is the ***sandwich estimate*** of the variance of the estimate $\\theta^*$. \n"
      ],
      "metadata": {
        "id": "MPI1WohvuQZs"
      }
    },
    {
      "cell_type": "markdown",
      "source": [
        "<a name=\"cell-opt-fx-m-est\"></a>\n",
        "\n",
        "## 10.0.1 M Estimation ([Return to TOC](#cell-TOC-opt)) \n",
        "\n",
        "---\n",
        "\n",
        "*Use of alternative loss functions besides $L_2$ can be facilitated by ***Newton's method***.*\n",
        "\n",
        "\n",
        "***M (maximum likelihood type) estimators*** consider optimizing \n",
        "\n",
        "$$\\min_\\beta \\sum_{i=1}^n \\rho(y_i-x_i^T \\beta)$$\n",
        "\n",
        "Where $\\rho(0)=0$ and $\\rho(t)$ increases as $|t|$ increases, and $\\psi = \\rho' \\neq 0$ and $\\psi' \\neq 0$.\n",
        "\n",
        "The gradient of this function is\n",
        "\n",
        "$$\\nabla_\\beta \\sum_{i=1}^n \\rho(y_i-x_i^T \\beta) = \\sum_{i=1}^n \\psi(y_i-x_i^T \\beta)x_i = X^T\\psi(y-X\\beta)$$\n",
        "\n",
        "and the Hessian is subsequently\n",
        "\n",
        "$$\\sum_{i=1}^n \\psi'(y_i-x_i^T \\beta)x_ix_i^T = X^TWX$$\n",
        "\n",
        "where $W$ is a diagonal matrix with $W_{ii} = \\psi'(y-X\\beta)_i$.\n",
        "\n",
        "***Newton's method*** is thus \n",
        "\n",
        "\\begin{align*}\n",
        "\\beta^{(t+1)} & = {} \\beta^{(t)} - (X^TWX)^{-1} X^T\\psi(y-X\\beta^{(t)})\\\\\n",
        "& = {} (X^TWX)^{-1} X^TW \\left[X\\beta^{(t)}  -  W^{-1}\\psi(y-X\\beta^{(t)}) \\right] \\\\\n",
        "\\end{align*}\n",
        "\n",
        "where the last line shows that $\\beta^{*}$ is found as a sequence of ***iteratively reweighted least squares*** problems. "
      ],
      "metadata": {
        "id": "ZkVEy2kpQ_AH"
      }
    },
    {
      "cell_type": "code",
      "source": [
        "# Here's an example of rho and psi\n",
        "\n",
        "@np.vectorize\n",
        "def huber_loss(t,c):\n",
        "  if np.abs(t)<=c:\n",
        "    return t**2/2\n",
        "  return c*np.abs(t)-c**2/2\n",
        "\n",
        "@np.vectorize\n",
        "def huber_slope(t,c):\n",
        "  if t>c:\n",
        "    return c\n",
        "  elif t<-c:\n",
        "    return -c\n",
        "  else:\n",
        "    return t"
      ],
      "metadata": {
        "id": "vvJDeQKf_jpN"
      },
      "execution_count": null,
      "outputs": []
    },
    {
      "cell_type": "markdown",
      "source": [
        "<a name=\"cell-opt-fx-huber\"></a>\n",
        "\n",
        "### Huber Loss ([Return to TOC](#cell-TOC-opt)) \n",
        "\n",
        "---\n",
        "\n",
        "If\n",
        "\n",
        "$$\\rho_c(t) = \\left\\{\\begin{array}{ll}t^2/2&|t|\\leq c\\\\ c|t| + c^2/2 & |t|>c\\end{array}\\right. \\quad \\text{ then } \\quad \\psi_c(t) = \\left\\{\\begin{array}{ll}c&t>c\\\\t & |t| \\leq c\\\\-c&t<-c\\end{array}\\right. \\quad \\text{ and } \\quad \\psi'_c(t) = \\left\\{\\begin{array}{ll}0&t>c\\\\1 & |t| \\leq c\\\\0&t<-c\\end{array}\\right.$$\n",
        "\n",
        "So $W_{ii} = 0$ whenever $|y_i - x_i^T\\beta|>c$ and $W_{ii} = 1$ whenever $|y_i - x_i^T\\beta| \\leq c$. Thus, the update \n",
        "\n",
        "\\begin{align*}\n",
        "\\beta^{(t+1)} & = {} (X^TWX)^{-1} X^TW \\left[X\\beta^{(t)}  -  W^{-1}\\psi(y-X\\beta^{(t)}) \\right]\\\\\n",
        "& = {} ({X_c^TX_c})^{-1} X_c^T y_c\n",
        "\\end{align*}\n",
        "\n",
        "which only includes data $X_c$ and $y_c$ which includes all $x_i$ and $y_i$ which satisfy $|\\psi_c(y_i-x_i^t\\beta^{(t)})| \\leq c$."
      ],
      "metadata": {
        "id": "bwdYFa3o5dG-"
      }
    },
    {
      "cell_type": "code",
      "source": [
        "t = np.linspace(-3.,3.,100)\n",
        "plt.plot(t, huber_slope(t,1.), label=\"rho_c the Huber loss function\")\n",
        "plt.plot(t, huber_loss(t,1.), label=\"psi_c the derivative of the Huber loss function\")\n",
        "plt.legend()"
      ],
      "metadata": {
        "colab": {
          "base_uri": "https://localhost:8080/",
          "height": 283
        },
        "id": "nndM1Rkp6U3a",
        "outputId": "7601b113-e4a5-43e3-dad5-9405230e4039"
      },
      "execution_count": null,
      "outputs": [
        {
          "output_type": "execute_result",
          "data": {
            "text/plain": [
              "<matplotlib.legend.Legend at 0x7eff46e61550>"
            ]
          },
          "metadata": {},
          "execution_count": 4
        },
        {
          "output_type": "display_data",
          "data": {
            "text/plain": [
              "<Figure size 432x288 with 1 Axes>"
            ],
            "image/png": "[encoded data removed]"
          },
          "metadata": {
            "needs_background": "light"
          }
        }
      ]
    },
    {
      "cell_type": "markdown",
      "source": [
        "The [Week 10 Programming Assignment Problem 2]() will implement a linear regression with ***Huber loss*** as opposed to ***least squares (squared loss)***."
      ],
      "metadata": {
        "id": "EaKlX9e_RyIX"
      }
    },
    {
      "cell_type": "markdown",
      "source": [
        "<a name=\"cell-opt-fx-gauss-newton\"></a>\n",
        "\n",
        "## 10.0.2 Gauss-Newton ([Return to TOC](#cell-TOC-opt)) \n",
        "\n",
        "---\n",
        "\n",
        "*The use of nonlinear functions is readily facilitated by ***Newton's method*** when first order approximations of functions are reasonably accurate.*\n",
        "\n",
        "The nonlinear least squares problem\n",
        "\n",
        "$$\\min_\\theta ||y-f_\\theta(z)||^2_2 \\not = \\min_x ||b-Ax||^2_2$$\n",
        "\n",
        "can be approximated with a linear least squares problem using a ***first-order Taylor series approximation*** for each observation\n",
        "\n",
        "$$f_\\theta(z_i) \\approx f_{\\theta^{(t)}}(z_i) + (\\theta-\\theta^{(t)})^T \\nabla_\\theta f_\\theta^{(t)}(z_i)$$ \n",
        "\n",
        "yielding\n",
        "$$\\min_\\theta \\Bigg|\\Bigg|\\; \\overbrace{\\left[ \\begin{array}{c}y_1\\\\\\vdots\\\\y_i\\\\\\vdots\\\\y_n\\end{array}\\right] - \\left[ \\begin{array}{c} f_{\\theta^{(t)}}(z_1) \\\\\\vdots\\\\f_{\\theta^{(t)}}(z_i)\\\\\\vdots\\\\f_{\\theta^{(t)}}(z_n)\\end{array}\\right]}^{\\tilde Y^{(t)}} \\;\\; -  \\underbrace{\\overbrace{\\left[ \\begin{array}{c} \\nabla_\\theta f_{\\theta^{(t)}}(z_1)^T \\\\\\vdots\\\\\\nabla_\\theta f_{\\theta^{(t)}}(z_i)^T\\\\\\vdots\\\\\\nabla_\\theta f_{\\theta^{(t)}}(z_n)^T\\end{array}\\right]}^{\\tilde X^{(t)}}}_{J_{f_{\\theta}(z)}(\\theta^{(t)})\\,=\\,\\left(\\nabla_{\\theta}f_{\\theta^{(t)}}(\\,z)\\right)^T}\\overbrace{\\left[ \\begin{array}{c}\\theta-\\theta^{(t)}_1\\\\\\vdots\\\\\\theta-\\theta^{(t)}_k\\\\\\vdots\\\\\\theta-\\theta^{(t)}_p\\end{array}\\right]}^{\\overset{\\Delta\\;\\;\\;}{\\tilde \\beta^{(t+1)}}} \\; \\Bigg|\\Bigg|^2_2$$\n",
        "\n",
        "from which the least squares solution suggests the iterative update\n",
        "\n",
        "$$\n",
        "\\begin{align*}\n",
        "\\overset{\\Delta}{\\quad\\;\\tilde \\beta^{(t+1)}} = {} & \\left((\\tilde X^{(t)})^T\\tilde X^{(t)}\\right)^{-1} (\\tilde X^{(t)})^T \\tilde Y^{(t)}, \\text{ or}\\\\\n",
        "\\theta^{(t+1)} = {} & \\theta^{(t)} + \\left(J_{f_\\theta(z)}(\\theta^{(t)})^TJ_{f_\\theta(z)}(\\theta^{(t)})\\right)^{-1} J_{f_\\theta(z)}(\\theta^{(t)})^T \\tilde Y^{(t)}\n",
        "\\end{align*}\n",
        "$$\n",
        "\n",
        "This is the ***Gauss-Newton method***, since as previously noted alongside the introduction of the ***Jacobian***, the inner product of the ***Jocobian*** is the ***Hessian*** of the ***least squares*** problem where $f_\\theta(z)$ is replaced with its ***first order Taylor series approximation***. That main idea of the ***Gauss-Newton method*** is thus that the potentially prohibitive calculation of the ***Hessian*** turns out to just be the less demanding inner product of a ***Jacobian***.\n",
        "\n",
        "> The ***condition*** of $J_{f_\\theta(z)}(\\theta^{(t)})$ will be a driver for how effective this method can be; and, is subject to ***artificial ill-conditioning*** if the scales of $\\theta_j$, and hence the elements of $\\nabla_\\theta {f_\\theta(z_i)}$, are too different... \"center and scale your data\"!\n",
        "\n",
        "The ***Gauss-Newton method*** will probably not converge for poorly fitting models, but it will converge quickly when the model fits well or $f$ is nearly linear.\n",
        "\n",
        "- When the ***Gauss-Newton*** is dampened by ***step size factor*** $\\alpha$ for possible ***backtracking*** and improved ***line search***, it is known as the ***modified Gauss-Newton*** algorithm. \n",
        "\n",
        "A similarity between the ***Gauss-Newton method*** and ***M estimation*** is that they both solve a sequence of ***least squares*** problems, but ***Gauss-Newton*** is different ***M estimation*** since \n",
        "- it is not ***iteratively reweighteded*** \n",
        "- it achieves linearity through approximation rather than direct specification\n",
        "- and of course the derivation of the ***Hessian*** for each method is thus subsequently different"
      ],
      "metadata": {
        "id": "ptZMy6ZCGrYw"
      }
    },
    {
      "cell_type": "code",
      "source": [
        "n = 100\n",
        "x = np.linspace(-5,5,n)\n",
        "y = np.array([-0.04241968,  0.99472692,  1.46136709,  1.69783109,  0.09136494,\n",
        "        0.10328747,  0.33459274, -0.95961782,  3.37643212,  0.05894329,\n",
        "       -0.02375809,  0.41763676,  0.83888061,  1.40835534, -0.51763923,\n",
        "        2.17880416,  1.3141562 ,  1.65314959,  1.31085976,  0.91729539,\n",
        "        0.04340638,  0.46099399,  0.2908898 , -0.16254184,  0.86570905,\n",
        "        3.64394349,  1.47214181,  0.98306952,  2.10230834,  2.3144478 ,\n",
        "        1.15205747,  3.85389004,  3.24838418,  3.74157532,  4.38135245,\n",
        "        3.6991966 ,  2.8086698 ,  5.38317327,  3.89871154,  5.77992931,\n",
        "        4.99042637,  4.43557394,  6.57268913,  6.33461487,  7.29644001,\n",
        "        9.28410845,  9.23606016,  7.9830918 , 12.39492388,  8.23567825,\n",
        "        8.38987408, 10.4842902 ,  9.95452683,  8.2193077 ,  8.82962424,\n",
        "        8.22969484,  6.43676618,  5.77055729,  6.1667942 ,  5.51438084,\n",
        "        5.66141588,  3.47588459,  4.49567897,  2.22952304,  1.36246895,\n",
        "        0.60024175,  1.35347034,  1.10556801,  1.36483442,  1.1073268 ,\n",
        "        0.47939686,  2.22805542,  2.59109509,  0.72635021,  0.78848517,\n",
        "        3.61547614,  3.03755397,  1.25754956, -0.24928762,  0.71108643,\n",
        "        0.64633145, -0.63206285, -0.08507482,  2.25897804,  1.12564098,\n",
        "        0.62971679, -0.64366294,  1.03681281,  0.64109991, -1.25298616,\n",
        "        0.03276321, -1.18998924, -1.39197099, -0.71243065,  0.30486192,\n",
        "        0.58965177,  0.82886567,  1.72342942,  0.83374295, -0.60082822])\n",
        "plt.plot(x,y); plt.title(\"Noisy data generated from a Lorentzian curve\")\n",
        "\n",
        "d = 3\n",
        "@tf.function(input_signature=(tf.TensorSpec(shape=[d], dtype=tf.float64),\n",
        "                              tf.TensorSpec(shape=[n], dtype=tf.float64),))\n",
        "def Lorentzian(theta, x):\n",
        "  return theta[0]/(((theta[1] - x)/theta[2])**2 + 1.)\n",
        "# The Lorentzian curve is a nonlinear function that may model this data\n",
        "\n",
        "a,b,c = 4.,3.,2.\n",
        "plt.plot(x, Lorentzian([a,b,c], x));"
      ],
      "metadata": {
        "colab": {
          "base_uri": "https://localhost:8080/",
          "height": 281
        },
        "id": "tNIcZBzSmQUY",
        "outputId": "d31cc8d5-c5f8-4f2c-80bf-ff90d8bed4dd"
      },
      "execution_count": null,
      "outputs": [
        {
          "output_type": "display_data",
          "data": {
            "text/plain": [
              "<Figure size 432x288 with 1 Axes>"
            ],
            "image/png": "[encoded data removed]"
          },
          "metadata": {
            "needs_background": "light"
          }
        }
      ]
    },
    {
      "cell_type": "code",
      "source": [
        "out = np.zeros((21,21))\n",
        "for i,A in enumerate(np.linspace(-20,21,21)):\n",
        "  for j,B in enumerate(np.linspace(-20,21,21)):\n",
        "    out[i,j] = ((Lorentzian([1,A,B], x).numpy() - y)**2).mean()\n",
        "A,B = np.meshgrid(np.linspace(-20,21,21), np.linspace(-20,21,21))\n",
        "\n",
        "# https://plotly.com/python/3d-surface-plots/\n",
        "fig = make_subplots(rows=1, cols=2, specs=[[{'is_3d': True}, {'is_3d': True}]])\n",
        "fig.add_trace(go.Surface(x=A, y=B, z=out), 1, 1)\n",
        "\n",
        "#The Lorentzian is a 3 parameter function, so the MSE of the Lorentzian \n",
        "# for any value of theta for the data above is a 4D surface. \n",
        "# Below, two three-dimensional slices of the Lorentzian are visualized.\n",
        "out = np.zeros((21,21))\n",
        "for i,A in enumerate(np.linspace(-10,11,21)):\n",
        "  for j,B in enumerate(np.linspace(-10,11,21)):\n",
        "    out[i,j] = ((Lorentzian([A,0,B], x).numpy() - y)**2).mean()\n",
        "A,B = np.meshgrid(np.linspace(-10,11,21), np.linspace(-10,11,21))\n",
        "# https://plotly.com/python/3d-surface-plots/\n",
        "fig.add_trace(go.Surface(x=A, y=B, z=out), 1, 2)"
      ],
      "metadata": {
        "colab": {
          "base_uri": "https://localhost:8080/",
          "height": 542
        },
        "id": "nBl_cXNMqHdC",
        "outputId": "697902e9-ff25-4763-db66-6f36ffe5d8e3"
      },
      "execution_count": null,
      "outputs": [
        {
          "output_type": "display_data",
          "data": {
            "text/html": [
              "<html>\n",
              "<head><meta charset=\"utf-8\" /></head>\n",
              "<body>\n",
              "    <div>            <script src=\"https://cdnjs.cloudflare.com/ajax/libs/mathjax/2.7.5/MathJax.js?config=TeX-AMS-MML_SVG\"></script><script type=\"text/javascript\">if (window.MathJax) {MathJax.Hub.Config({SVG: {font: \"STIX-Web\"}});}</script>                <script type=\"text/javascript\">window.PlotlyConfig = {MathJaxConfig: 'local'};</script>\n",
              "        <script src=\"https://cdn.plot.ly/plotly-2.8.3.min.js\"></script>                <div id=\"24a73677-866d-4a0f-b110-40af6edeee7d\" class=\"plotly-graph-div\" style=\"height:525px; width:100%;\"></div>            <script type=\"text/javascript\">                                    window.PLOTLYENV=window.PLOTLYENV || {};                                    if (document.getElementById(\"24a73677-866d-4a0f-b110-40af6edeee7d\")) {                    Plotly.newPlot(                        \"24a73677-866d-4a0f-b110-40af6edeee7d\",                        [{\"x\":[[-20.0,-17.95,-15.9,-13.850000000000001,-11.8,-9.75,-7.700000000000001,-5.650000000000002,-3.6000000000000014,-1.5500000000000007,0.5,2.549999999999997,4.599999999999998,6.649999999999999,8.699999999999996,10.749999999999996,12.799999999999997,14.849999999999994,16.9,18.949999999999996,21.0],[-20.0,-17.95,-15.9,-13.850000000000001,-11.8,-9.75,-7.700000000000001,-5.650000000000002,-3.6000000000000014,-1.5500000000000007,0.5,2.549999999999997,4.599999999999998,6.649999999999999,8.699999999999996,10.749999999999996,12.799999999999997,14.849999999999994,16.9,18.949999999999996,21.0],[-20.0,-17.95,-15.9,-13.850000000000001,-11.8,-9.75,-7.700000000000001,-5.650000000000002,-3.6000000000000014,-1.5500000000000007,0.5,2.549999999999997,4.599999999999998,6.649999999999999,8.699999999999996,10.749999999999996,12.799999999999997,14.849999999999994,16.9,18.949999999999996,21.0],[-20.0,-17.95,-15.9,-13.850000000000001,-11.8,-9.75,-7.700000000000001,-5.650000000000002,-3.6000000000000014,-1.5500000000000007,0.5,2.549999999999997,4.599999999999998,6.649999999999999,8.699999999999996,10.749999999999996,12.799999999999997,14.849999999999994,16.9,18.949999999999996,21.0],[-20.0,-17.95,-15.9,-13.850000000000001,-11.8,-9.75,-7.700000000000001,-5.650000000000002,-3.6000000000000014,-1.5500000000000007,0.5,2.549999999999997,4.599999999999998,6.649999999999999,8.699999999999996,10.749999999999996,12.799999999999997,14.849999999999994,16.9,18.949999999999996,21.0],[-20.0,-17.95,-15.9,-13.850000000000001,-11.8,-9.75,-7.700000000000001,-5.650000000000002,-3.6000000000000014,-1.5500000000000007,0.5,2.549999999999997,4.599999999999998,6.649999999999999,8.699999999999996,10.749999999999996,12.799999999999997,14.849999999999994,16.9,18.949999999999996,21.0],[-20.0,-17.95,-15.9,-13.850000000000001,-11.8,-9.75,-7.700000000000001,-5.650000000000002,-3.6000000000000014,-1.5500000000000007,0.5,2.549999999999997,4.599999999999998,6.649999999999999,8.699999999999996,10.749999999999996,12.799999999999997,14.849999999999994,16.9,18.949999999999996,21.0],[-20.0,-17.95,-15.9,-13.850000000000001,-11.8,-9.75,-7.700000000000001,-5.650000000000002,-3.6000000000000014,-1.5500000000000007,0.5,2.549999999999997,4.599999999999998,6.649999999999999,8.699999999999996,10.749999999999996,12.799999999999997,14.849999999999994,16.9,18.949999999999996,21.0],[-20.0,-17.95,-15.9,-13.850000000000001,-11.8,-9.75,-7.700000000000001,-5.650000000000002,-3.6000000000000014,-1.5500000000000007,0.5,2.549999999999997,4.599999999999998,6.649999999999999,8.699999999999996,10.749999999999996,12.799999999999997,14.849999999999994,16.9,18.949999999999996,21.0],[-20.0,-17.95,-15.9,-13.850000000000001,-11.8,-9.75,-7.700000000000001,-5.650000000000002,-3.6000000000000014,-1.5500000000000007,0.5,2.549999999999997,4.599999999999998,6.649999999999999,8.699999999999996,10.749999999999996,12.799999999999997,14.849999999999994,16.9,18.949999999999996,21.0],[-20.0,-17.95,-15.9,-13.850000000000001,-11.8,-9.75,-7.700000000000001,-5.650000000000002,-3.6000000000000014,-1.5500000000000007,0.5,2.549999999999997,4.599999999999998,6.649999999999999,8.699999999999996,10.749999999999996,12.799999999999997,14.849999999999994,16.9,18.949999999999996,21.0],[-20.0,-17.95,-15.9,-13.850000000000001,-11.8,-9.75,-7.700000000000001,-5.650000000000002,-3.6000000000000014,-1.5500000000000007,0.5,2.549999999999997,4.599999999999998,6.649999999999999,8.699999999999996,10.749999999999996,12.799999999999997,14.849999999999994,16.9,18.949999999999996,21.0],[-20.0,-17.95,-15.9,-13.850000000000001,-11.8,-9.75,-7.700000000000001,-5.650000000000002,-3.6000000000000014,-1.5500000000000007,0.5,2.549999999999997,4.599999999999998,6.649999999999999,8.699999999999996,10.749999999999996,12.799999999999997,14.849999999999994,16.9,18.949999999999996,21.0],[-20.0,-17.95,-15.9,-13.850000000000001,-11.8,-9.75,-7.700000000000001,-5.650000000000002,-3.6000000000000014,-1.5500000000000007,0.5,2.549999999999997,4.599999999999998,6.649999999999999,8.699999999999996,10.749999999999996,12.799999999999997,14.849999999999994,16.9,18.949999999999996,21.0],[-20.0,-17.95,-15.9,-13.850000000000001,-11.8,-9.75,-7.700000000000001,-5.650000000000002,-3.6000000000000014,-1.5500000000000007,0.5,2.549999999999997,4.599999999999998,6.649999999999999,8.699999999999996,10.749999999999996,12.799999999999997,14.849999999999994,16.9,18.949999999999996,21.0],[-20.0,-17.95,-15.9,-13.850000000000001,-11.8,-9.75,-7.700000000000001,-5.650000000000002,-3.6000000000000014,-1.5500000000000007,0.5,2.549999999999997,4.599999999999998,6.649999999999999,8.699999999999996,10.749999999999996,12.799999999999997,14.849999999999994,16.9,18.949999999999996,21.0],[-20.0,-17.95,-15.9,-13.850000000000001,-11.8,-9.75,-7.700000000000001,-5.650000000000002,-3.6000000000000014,-1.5500000000000007,0.5,2.549999999999997,4.599999999999998,6.649999999999999,8.699999999999996,10.749999999999996,12.799999999999997,14.849999999999994,16.9,18.949999999999996,21.0],[-20.0,-17.95,-15.9,-13.850000000000001,-11.8,-9.75,-7.700000000000001,-5.650000000000002,-3.6000000000000014,-1.5500000000000007,0.5,2.549999999999997,4.599999999999998,6.649999999999999,8.699999999999996,10.749999999999996,12.799999999999997,14.849999999999994,16.9,18.949999999999996,21.0],[-20.0,-17.95,-15.9,-13.850000000000001,-11.8,-9.75,-7.700000000000001,-5.650000000000002,-3.6000000000000014,-1.5500000000000007,0.5,2.549999999999997,4.599999999999998,6.649999999999999,8.699999999999996,10.749999999999996,12.799999999999997,14.849999999999994,16.9,18.949999999999996,21.0],[-20.0,-17.95,-15.9,-13.850000000000001,-11.8,-9.75,-7.700000000000001,-5.650000000000002,-3.6000000000000014,-1.5500000000000007,0.5,2.549999999999997,4.599999999999998,6.649999999999999,8.699999999999996,10.749999999999996,12.799999999999997,14.849999999999994,16.9,18.949999999999996,21.0],[-20.0,-17.95,-15.9,-13.850000000000001,-11.8,-9.75,-7.700000000000001,-5.650000000000002,-3.6000000000000014,-1.5500000000000007,0.5,2.549999999999997,4.599999999999998,6.649999999999999,8.699999999999996,10.749999999999996,12.799999999999997,14.849999999999994,16.9,18.949999999999996,21.0]],\"y\":[[-20.0,-20.0,-20.0,-20.0,-20.0,-20.0,-20.0,-20.0,-20.0,-20.0,-20.0,-20.0,-20.0,-20.0,-20.0,-20.0,-20.0,-20.0,-20.0,-20.0,-20.0],[-17.95,-17.95,-17.95,-17.95,-17.95,-17.95,-17.95,-17.95,-17.95,-17.95,-17.95,-17.95,-17.95,-17.95,-17.95,-17.95,-17.95,-17.95,-17.95,-17.95,-17.95],[-15.9,-15.9,-15.9,-15.9,-15.9,-15.9,-15.9,-15.9,-15.9,-15.9,-15.9,-15.9,-15.9,-15.9,-15.9,-15.9,-15.9,-15.9,-15.9,-15.9,-15.9],[-13.850000000000001,-13.850000000000001,-13.850000000000001,-13.850000000000001,-13.850000000000001,-13.850000000000001,-13.850000000000001,-13.850000000000001,-13.850000000000001,-13.850000000000001,-13.850000000000001,-13.850000000000001,-13.850000000000001,-13.850000000000001,-13.850000000000001,-13.850000000000001,-13.850000000000001,-13.850000000000001,-13.850000000000001,-13.850000000000001,-13.850000000000001],[-11.8,-11.8,-11.8,-11.8,-11.8,-11.8,-11.8,-11.8,-11.8,-11.8,-11.8,-11.8,-11.8,-11.8,-11.8,-11.8,-11.8,-11.8,-11.8,-11.8,-11.8],[-9.75,-9.75,-9.75,-9.75,-9.75,-9.75,-9.75,-9.75,-9.75,-9.75,-9.75,-9.75,-9.75,-9.75,-9.75,-9.75,-9.75,-9.75,-9.75,-9.75,-9.75],[-7.700000000000001,-7.700000000000001,-7.700000000000001,-7.700000000000001,-7.700000000000001,-7.700000000000001,-7.700000000000001,-7.700000000000001,-7.700000000000001,-7.700000000000001,-7.700000000000001,-7.700000000000001,-7.700000000000001,-7.700000000000001,-7.700000000000001,-7.700000000000001,-7.700000000000001,-7.700000000000001,-7.700000000000001,-7.700000000000001,-7.700000000000001],[-5.650000000000002,-5.650000000000002,-5.650000000000002,-5.650000000000002,-5.650000000000002,-5.650000000000002,-5.650000000000002,-5.650000000000002,-5.650000000000002,-5.650000000000002,-5.650000000000002,-5.650000000000002,-5.650000000000002,-5.650000000000002,-5.650000000000002,-5.650000000000002,-5.650000000000002,-5.650000000000002,-5.650000000000002,-5.650000000000002,-5.650000000000002],[-3.6000000000000014,-3.6000000000000014,-3.6000000000000014,-3.6000000000000014,-3.6000000000000014,-3.6000000000000014,-3.6000000000000014,-3.6000000000000014,-3.6000000000000014,-3.6000000000000014,-3.6000000000000014,-3.6000000000000014,-3.6000000000000014,-3.6000000000000014,-3.6000000000000014,-3.6000000000000014,-3.6000000000000014,-3.6000000000000014,-3.6000000000000014,-3.6000000000000014,-3.6000000000000014],[-1.5500000000000007,-1.5500000000000007,-1.5500000000000007,-1.5500000000000007,-1.5500000000000007,-1.5500000000000007,-1.5500000000000007,-1.5500000000000007,-1.5500000000000007,-1.5500000000000007,-1.5500000000000007,-1.5500000000000007,-1.5500000000000007,-1.5500000000000007,-1.5500000000000007,-1.5500000000000007,-1.5500000000000007,-1.5500000000000007,-1.5500000000000007,-1.5500000000000007,-1.5500000000000007],[0.5,0.5,0.5,0.5,0.5,0.5,0.5,0.5,0.5,0.5,0.5,0.5,0.5,0.5,0.5,0.5,0.5,0.5,0.5,0.5,0.5],[2.549999999999997,2.549999999999997,2.549999999999997,2.549999999999997,2.549999999999997,2.549999999999997,2.549999999999997,2.549999999999997,2.549999999999997,2.549999999999997,2.549999999999997,2.549999999999997,2.549999999999997,2.549999999999997,2.549999999999997,2.549999999999997,2.549999999999997,2.549999999999997,2.549999999999997,2.549999999999997,2.549999999999997],[4.599999999999998,4.599999999999998,4.599999999999998,4.599999999999998,4.599999999999998,4.599999999999998,4.599999999999998,4.599999999999998,4.599999999999998,4.599999999999998,4.599999999999998,4.599999999999998,4.599999999999998,4.599999999999998,4.599999999999998,4.599999999999998,4.599999999999998,4.599999999999998,4.599999999999998,4.599999999999998,4.599999999999998],[6.649999999999999,6.649999999999999,6.649999999999999,6.649999999999999,6.649999999999999,6.649999999999999,6.649999999999999,6.649999999999999,6.649999999999999,6.649999999999999,6.649999999999999,6.649999999999999,6.649999999999999,6.649999999999999,6.649999999999999,6.649999999999999,6.649999999999999,6.649999999999999,6.649999999999999,6.649999999999999,6.649999999999999],[8.699999999999996,8.699999999999996,8.699999999999996,8.699999999999996,8.699999999999996,8.699999999999996,8.699999999999996,8.699999999999996,8.699999999999996,8.699999999999996,8.699999999999996,8.699999999999996,8.699999999999996,8.699999999999996,8.699999999999996,8.699999999999996,8.699999999999996,8.699999999999996,8.699999999999996,8.699999999999996,8.699999999999996],[10.749999999999996,10.749999999999996,10.749999999999996,10.749999999999996,10.749999999999996,10.749999999999996,10.749999999999996,10.749999999999996,10.749999999999996,10.749999999999996,10.749999999999996,10.749999999999996,10.749999999999996,10.749999999999996,10.749999999999996,10.749999999999996,10.749999999999996,10.749999999999996,10.749999999999996,10.749999999999996,10.749999999999996],[12.799999999999997,12.799999999999997,12.799999999999997,12.799999999999997,12.799999999999997,12.799999999999997,12.799999999999997,12.799999999999997,12.799999999999997,12.799999999999997,12.799999999999997,12.799999999999997,12.799999999999997,12.799999999999997,12.799999999999997,12.799999999999997,12.799999999999997,12.799999999999997,12.799999999999997,12.799999999999997,12.799999999999997],[14.849999999999994,14.849999999999994,14.849999999999994,14.849999999999994,14.849999999999994,14.849999999999994,14.849999999999994,14.849999999999994,14.849999999999994,14.849999999999994,14.849999999999994,14.849999999999994,14.849999999999994,14.849999999999994,14.849999999999994,14.849999999999994,14.849999999999994,14.849999999999994,14.849999999999994,14.849999999999994,14.849999999999994],[16.9,16.9,16.9,16.9,16.9,16.9,16.9,16.9,16.9,16.9,16.9,16.9,16.9,16.9,16.9,16.9,16.9,16.9,16.9,16.9,16.9],[18.949999999999996,18.949999999999996,18.949999999999996,18.949999999999996,18.949999999999996,18.949999999999996,18.949999999999996,18.949999999999996,18.949999999999996,18.949999999999996,18.949999999999996,18.949999999999996,18.949999999999996,18.949999999999996,18.949999999999996,18.949999999999996,18.949999999999996,18.949999999999996,18.949999999999996,18.949999999999996,18.949999999999996],[21.0,21.0,21.0,21.0,21.0,21.0,21.0,21.0,21.0,21.0,21.0,21.0,21.0,21.0,21.0,21.0,21.0,21.0,21.0,21.0,21.0]],\"z\":[[13.87353472667053,14.105280278863061,14.365677117366399,14.653400345735026,14.963422424364193,15.28531583836621,15.601762787803379,15.888226753623028,16.11512246432582,16.253423004925224,16.28278332077006,16.19861172777456,16.013813586191695,15.75402724813484,15.449464769591144,15.127728150255473,14.80991628149445,14.509844254556866,14.235090302273596,13.988673668257158,13.77065912341527],[13.645231126774263,13.870621376619818,14.130327452296745,14.425496993134324,14.753596640229402,15.1058707612993,15.464440026454291,15.800268410570814,16.074406030288355,16.24526562135544,16.281920545223997,16.177198247789864,15.951078946903356,15.641561967405483,15.290300087957576,14.931889102359497,14.589805630599981,14.277128250736453,13.999220991089723,13.75654709727555,13.546868536316328],[13.40287284422061,13.615374863571205,13.867063636471492,14.16231341214108,14.50248639438392,14.882571866446737,15.286404007857806,15.681556929091844,16.01752163065888,16.233609125715603,16.280681558691494,16.146876262970565,15.86480475117564,15.492668240920759,15.08805626895406,14.69287105027686,14.331052410945585,14.012658780364642,13.739076325186991,13.507145466995201,13.31182109094949],[13.151170829609061,13.343329484563574,13.577787311516852,13.862634628554943,14.20453088072697,14.604926354377488,15.053326036800083,15.517577450645252,15.934956718093984,16.216096420662208,16.278805432220445,16.101960117639575,15.742435690583084,15.292306127893731,14.82998788889126,14.402581801784597,14.030349191872057,13.716904683853906,13.457618543073501,13.244808286865386,13.070421554883058],[12.897383773661907,13.061516272059093,13.268190356293994,13.529077653452651,13.857000277936438,14.262703178500145,14.747072681060507,15.28615742861346,15.80961584308007,16.187954175839085,16.275748476320647,16.031497199496826,15.56306217538666,15.019429090096766,14.501660095604683,14.054660125572612,13.687875860304256,13.394240111321144,13.161369186662084,12.976781870491736,12.829791771533156],[12.651594027051042,12.780981355662417,12.949309600406083,13.170675523850834,13.463553045267142,13.849661868806479,14.347682879893675,14.955057678908075,15.609854507159561,16.13821734311816,16.270184745333854,15.912639711076242,15.292269472453011,14.64701981053399,14.090092331943092,13.648287080745122,13.310424434370745,13.055006025704847,12.861545221730559,12.713717104547106,12.599389563016341],[12.42656926860227,12.517137192154486,12.638877227265537,12.805931747178827,13.039586646157137,13.370788991081774,13.839823465206136,14.482685471645627,15.279198647182032,16.037141182532167,16.257829284322504,15.695531121630067,14.877741103809408,14.146303824679881,13.591100565445005,13.194669827093566,12.915589808056463,12.717639633012269,12.574843703891467,12.469732491402956,12.390750704114675],[12.236949454430455,12.289187928083356,12.361654954539702,12.465406559594962,12.619174700335613,12.855277295404917,13.228838065849809,13.825074508774717,14.726644739728336,15.804594991260581,16.21024386100179,15.285939931828812,14.247197122233795,13.500076593627254,13.024775519046369,12.727010022653197,12.536293488325313,12.409941882687763,12.323213291924342,12.261669742772217,12.216675940576037],[12.097556158643172,12.118035006052331,12.147376508748776,12.191265243065722,12.260379589319955,12.376026698908795,12.583323236214156,12.981825849065745,13.782210432661579,15.238464292765489,16.031703395979083,14.44649728359635,13.322469192871777,12.753663976276457,12.46630648956701,12.311757829209405,12.22252286345704,12.167527620434427,12.131676929944025,12.107176826729706,12.089760543077839],[12.020896866011258,12.022404930218759,12.02495264417793,12.029507837651776,12.03822823578407,12.056367276744101,12.098119123757945,12.206862316790646,12.536411093809722,13.728128389017431,15.272043143262325,12.95140552026756,12.32810723092221,12.140216687633282,12.073194887267803,12.045779161500363,12.033233604051814,12.02694018403558,12.023535788382398,12.021575793576815,12.020387197621051],[12.014448541162658,12.014009278792175,12.013608244922963,12.013447781153971,12.01411308719446,12.01736277681081,12.028935557175167,12.069976480953807,12.232038423313131,13.011856797343166,14.526889355994632,12.475706214076167,12.124899515051792,12.04350119798246,12.021543238133631,12.015248066099835,12.01361870873007,12.013473145198457,12.01379117028398,12.014224743715664,12.014653794848709],[12.07875770788558,12.09384238098501,12.115249997071732,12.14697453899373,12.19656653245587,12.279386925811263,12.429380684989352,12.72827480637725,13.3850358264841,14.850401564946546,15.864944832835185,14.00208339888428,12.99766615179072,12.55520674345091,12.344364812355641,12.233339171259338,12.169437559720528,12.129850606429272,12.103821119399333,12.08586177120219,12.07297534638243],[12.2072811290756,12.25178927865106,12.313471489382183,12.401902169089427,12.533722806155764,12.73893107309953,13.072733637248366,13.63345739299725,14.558263424951996,15.803311283155185,16.251600232028323,15.18533095621356,14.054059307062177,13.323260585299149,12.88887923189933,12.626965933849162,12.462528545261558,12.354595199248163,12.280751950121912,12.228352935940578,12.189980839055488],[12.388075654998762,12.469862377866548,12.580157009464253,12.732453955595558,12.947805766810554,13.25858856688891,13.71109968777974,14.356166918654738,15.19200988646042,16.007332154747836,16.252637714299848,15.639111615962308,14.766321790193654,14.015041693400137,13.469264221574834,13.092472999890417,12.83315301784353,12.65180771886321,12.522082605328796,12.427032259995306,12.355769384466917],[12.606515456858823,12.727154413565936,12.88491339115867,13.094028414780507,13.373945375819897,13.749089951343183,14.243618428600678,14.862670764093659,15.54877030738206,16.12038344154963,16.268049852257807,15.873497983093303,15.21356738886067,14.546577797701714,13.98633279080979,13.552543075541816,13.227111219652024,12.984511885468878,12.802535341986744,12.664377526502914,12.557968697647357],[12.847911133098147,13.004086774292999,13.201907409974922,13.453672888866668,13.773633255221567,14.175163237719985,14.663047876824416,15.21738784140161,15.768670165712974,16.177872446841146,16.27462474126452,16.00728034266233,15.507211195090008,14.941563503484126,14.414682427249154,13.968461904179616,13.608114547499007,13.323252337146936,13.099491414585902,12.923364326901503,12.783809477180192],[13.09931226502911,13.284768560823254,13.512446395025972,13.791287079815515,14.129412418181012,14.530432497495987,14.986405116286994,15.466925228710082,15.907513383130855,16.209939150466983,16.278136841168006,16.08653664068342,15.703162617368859,15.232616117994274,14.758352826348075,14.327074377995308,13.956670558289487,13.648314814217004,13.395553251465856,13.189560702159302,13.02166434754284],[13.3503746430188,13.557655492557023,13.804685400799812,14.09672572784537,14.436418170367908,14.82032221415265,15.233671949010185,15.644195501833355,15.998617823107333,16.229589237865074,16.2802507036066,16.136576036859374,15.836846079083768,15.447162405657823,15.029912859339536,14.628120385883223,14.26478257814955,13.948384187312717,13.678853560436565,13.451943582814373,13.2618984511511],[13.59352378499003,13.815214674809436,14.072222058706377,14.366494185394135,14.6964886297475,15.05443663564221,15.422982140552197,15.772381850270271,16.060959449789262,16.24250054190007,16.281626431974143,16.170015219835424,15.930740432360121,15.606724251706666,15.24344332393796,14.8771636410869,14.531358420579732,14.21827897128482,13.942262029973865,13.70286054018152,13.497148805111454],[13.823706697831955,14.053177355233318,14.312546279357155,14.601135837328766,14.91459978024075,15.243015187925016,15.56902788409873,15.867070383248771,16.10526594630311,16.25144109425058,16.282573545299556,16.193416491507147,15.9986693798273,15.72708636162826,15.41171992684001,15.081845580310324,14.75905348344013,14.456876640674686,14.182266649594304,13.9375604682594,13.722230053822686],[14.03795393646228,14.269707715527401,14.525696406350775,14.8033707014938,15.096762155750897,15.395294092836311,15.682953578858452,15.938535173018796,16.137792705414295,16.257889522872237,16.28325403387965,16.210414964729107,16.049167902848865,15.819365697058004,15.545217965680607,15.24990312874613,14.9522260388866,14.665492064651012,14.397890864473085,14.153571507284749,13.933838824421597]],\"type\":\"surface\",\"scene\":\"scene\"},{\"x\":[[-10.0,-8.95,-7.9,-6.85,-5.8,-4.75,-3.6999999999999993,-2.6499999999999995,-1.5999999999999996,-0.5499999999999989,0.5,1.5500000000000007,2.6000000000000014,3.6500000000000004,4.700000000000001,5.75,6.800000000000001,7.850000000000001,8.900000000000002,9.95,11.0],[-10.0,-8.95,-7.9,-6.85,-5.8,-4.75,-3.6999999999999993,-2.6499999999999995,-1.5999999999999996,-0.5499999999999989,0.5,1.5500000000000007,2.6000000000000014,3.6500000000000004,4.700000000000001,5.75,6.800000000000001,7.850000000000001,8.900000000000002,9.95,11.0],[-10.0,-8.95,-7.9,-6.85,-5.8,-4.75,-3.6999999999999993,-2.6499999999999995,-1.5999999999999996,-0.5499999999999989,0.5,1.5500000000000007,2.6000000000000014,3.6500000000000004,4.700000000000001,5.75,6.800000000000001,7.850000000000001,8.900000000000002,9.95,11.0],[-10.0,-8.95,-7.9,-6.85,-5.8,-4.75,-3.6999999999999993,-2.6499999999999995,-1.5999999999999996,-0.5499999999999989,0.5,1.5500000000000007,2.6000000000000014,3.6500000000000004,4.700000000000001,5.75,6.800000000000001,7.850000000000001,8.900000000000002,9.95,11.0],[-10.0,-8.95,-7.9,-6.85,-5.8,-4.75,-3.6999999999999993,-2.6499999999999995,-1.5999999999999996,-0.5499999999999989,0.5,1.5500000000000007,2.6000000000000014,3.6500000000000004,4.700000000000001,5.75,6.800000000000001,7.850000000000001,8.900000000000002,9.95,11.0],[-10.0,-8.95,-7.9,-6.85,-5.8,-4.75,-3.6999999999999993,-2.6499999999999995,-1.5999999999999996,-0.5499999999999989,0.5,1.5500000000000007,2.6000000000000014,3.6500000000000004,4.700000000000001,5.75,6.800000000000001,7.850000000000001,8.900000000000002,9.95,11.0],[-10.0,-8.95,-7.9,-6.85,-5.8,-4.75,-3.6999999999999993,-2.6499999999999995,-1.5999999999999996,-0.5499999999999989,0.5,1.5500000000000007,2.6000000000000014,3.6500000000000004,4.700000000000001,5.75,6.800000000000001,7.850000000000001,8.900000000000002,9.95,11.0],[-10.0,-8.95,-7.9,-6.85,-5.8,-4.75,-3.6999999999999993,-2.6499999999999995,-1.5999999999999996,-0.5499999999999989,0.5,1.5500000000000007,2.6000000000000014,3.6500000000000004,4.700000000000001,5.75,6.800000000000001,7.850000000000001,8.900000000000002,9.95,11.0],[-10.0,-8.95,-7.9,-6.85,-5.8,-4.75,-3.6999999999999993,-2.6499999999999995,-1.5999999999999996,-0.5499999999999989,0.5,1.5500000000000007,2.6000000000000014,3.6500000000000004,4.700000000000001,5.75,6.800000000000001,7.850000000000001,8.900000000000002,9.95,11.0],[-10.0,-8.95,-7.9,-6.85,-5.8,-4.75,-3.6999999999999993,-2.6499999999999995,-1.5999999999999996,-0.5499999999999989,0.5,1.5500000000000007,2.6000000000000014,3.6500000000000004,4.700000000000001,5.75,6.800000000000001,7.850000000000001,8.900000000000002,9.95,11.0],[-10.0,-8.95,-7.9,-6.85,-5.8,-4.75,-3.6999999999999993,-2.6499999999999995,-1.5999999999999996,-0.5499999999999989,0.5,1.5500000000000007,2.6000000000000014,3.6500000000000004,4.700000000000001,5.75,6.800000000000001,7.850000000000001,8.900000000000002,9.95,11.0],[-10.0,-8.95,-7.9,-6.85,-5.8,-4.75,-3.6999999999999993,-2.6499999999999995,-1.5999999999999996,-0.5499999999999989,0.5,1.5500000000000007,2.6000000000000014,3.6500000000000004,4.700000000000001,5.75,6.800000000000001,7.850000000000001,8.900000000000002,9.95,11.0],[-10.0,-8.95,-7.9,-6.85,-5.8,-4.75,-3.6999999999999993,-2.6499999999999995,-1.5999999999999996,-0.5499999999999989,0.5,1.5500000000000007,2.6000000000000014,3.6500000000000004,4.700000000000001,5.75,6.800000000000001,7.850000000000001,8.900000000000002,9.95,11.0],[-10.0,-8.95,-7.9,-6.85,-5.8,-4.75,-3.6999999999999993,-2.6499999999999995,-1.5999999999999996,-0.5499999999999989,0.5,1.5500000000000007,2.6000000000000014,3.6500000000000004,4.700000000000001,5.75,6.800000000000001,7.850000000000001,8.900000000000002,9.95,11.0],[-10.0,-8.95,-7.9,-6.85,-5.8,-4.75,-3.6999999999999993,-2.6499999999999995,-1.5999999999999996,-0.5499999999999989,0.5,1.5500000000000007,2.6000000000000014,3.6500000000000004,4.700000000000001,5.75,6.800000000000001,7.850000000000001,8.900000000000002,9.95,11.0],[-10.0,-8.95,-7.9,-6.85,-5.8,-4.75,-3.6999999999999993,-2.6499999999999995,-1.5999999999999996,-0.5499999999999989,0.5,1.5500000000000007,2.6000000000000014,3.6500000000000004,4.700000000000001,5.75,6.800000000000001,7.850000000000001,8.900000000000002,9.95,11.0],[-10.0,-8.95,-7.9,-6.85,-5.8,-4.75,-3.6999999999999993,-2.6499999999999995,-1.5999999999999996,-0.5499999999999989,0.5,1.5500000000000007,2.6000000000000014,3.6500000000000004,4.700000000000001,5.75,6.800000000000001,7.850000000000001,8.900000000000002,9.95,11.0],[-10.0,-8.95,-7.9,-6.85,-5.8,-4.75,-3.6999999999999993,-2.6499999999999995,-1.5999999999999996,-0.5499999999999989,0.5,1.5500000000000007,2.6000000000000014,3.6500000000000004,4.700000000000001,5.75,6.800000000000001,7.850000000000001,8.900000000000002,9.95,11.0],[-10.0,-8.95,-7.9,-6.85,-5.8,-4.75,-3.6999999999999993,-2.6499999999999995,-1.5999999999999996,-0.5499999999999989,0.5,1.5500000000000007,2.6000000000000014,3.6500000000000004,4.700000000000001,5.75,6.800000000000001,7.850000000000001,8.900000000000002,9.95,11.0],[-10.0,-8.95,-7.9,-6.85,-5.8,-4.75,-3.6999999999999993,-2.6499999999999995,-1.5999999999999996,-0.5499999999999989,0.5,1.5500000000000007,2.6000000000000014,3.6500000000000004,4.700000000000001,5.75,6.800000000000001,7.850000000000001,8.900000000000002,9.95,11.0],[-10.0,-8.95,-7.9,-6.85,-5.8,-4.75,-3.6999999999999993,-2.6499999999999995,-1.5999999999999996,-0.5499999999999989,0.5,1.5500000000000007,2.6000000000000014,3.6500000000000004,4.700000000000001,5.75,6.800000000000001,7.850000000000001,8.900000000000002,9.95,11.0]],\"y\":[[-10.0,-10.0,-10.0,-10.0,-10.0,-10.0,-10.0,-10.0,-10.0,-10.0,-10.0,-10.0,-10.0,-10.0,-10.0,-10.0,-10.0,-10.0,-10.0,-10.0,-10.0],[-8.95,-8.95,-8.95,-8.95,-8.95,-8.95,-8.95,-8.95,-8.95,-8.95,-8.95,-8.95,-8.95,-8.95,-8.95,-8.95,-8.95,-8.95,-8.95,-8.95,-8.95],[-7.9,-7.9,-7.9,-7.9,-7.9,-7.9,-7.9,-7.9,-7.9,-7.9,-7.9,-7.9,-7.9,-7.9,-7.9,-7.9,-7.9,-7.9,-7.9,-7.9,-7.9],[-6.85,-6.85,-6.85,-6.85,-6.85,-6.85,-6.85,-6.85,-6.85,-6.85,-6.85,-6.85,-6.85,-6.85,-6.85,-6.85,-6.85,-6.85,-6.85,-6.85,-6.85],[-5.8,-5.8,-5.8,-5.8,-5.8,-5.8,-5.8,-5.8,-5.8,-5.8,-5.8,-5.8,-5.8,-5.8,-5.8,-5.8,-5.8,-5.8,-5.8,-5.8,-5.8],[-4.75,-4.75,-4.75,-4.75,-4.75,-4.75,-4.75,-4.75,-4.75,-4.75,-4.75,-4.75,-4.75,-4.75,-4.75,-4.75,-4.75,-4.75,-4.75,-4.75,-4.75],[-3.6999999999999993,-3.6999999999999993,-3.6999999999999993,-3.6999999999999993,-3.6999999999999993,-3.6999999999999993,-3.6999999999999993,-3.6999999999999993,-3.6999999999999993,-3.6999999999999993,-3.6999999999999993,-3.6999999999999993,-3.6999999999999993,-3.6999999999999993,-3.6999999999999993,-3.6999999999999993,-3.6999999999999993,-3.6999999999999993,-3.6999999999999993,-3.6999999999999993,-3.6999999999999993],[-2.6499999999999995,-2.6499999999999995,-2.6499999999999995,-2.6499999999999995,-2.6499999999999995,-2.6499999999999995,-2.6499999999999995,-2.6499999999999995,-2.6499999999999995,-2.6499999999999995,-2.6499999999999995,-2.6499999999999995,-2.6499999999999995,-2.6499999999999995,-2.6499999999999995,-2.6499999999999995,-2.6499999999999995,-2.6499999999999995,-2.6499999999999995,-2.6499999999999995,-2.6499999999999995],[-1.5999999999999996,-1.5999999999999996,-1.5999999999999996,-1.5999999999999996,-1.5999999999999996,-1.5999999999999996,-1.5999999999999996,-1.5999999999999996,-1.5999999999999996,-1.5999999999999996,-1.5999999999999996,-1.5999999999999996,-1.5999999999999996,-1.5999999999999996,-1.5999999999999996,-1.5999999999999996,-1.5999999999999996,-1.5999999999999996,-1.5999999999999996,-1.5999999999999996,-1.5999999999999996],[-0.5499999999999989,-0.5499999999999989,-0.5499999999999989,-0.5499999999999989,-0.5499999999999989,-0.5499999999999989,-0.5499999999999989,-0.5499999999999989,-0.5499999999999989,-0.5499999999999989,-0.5499999999999989,-0.5499999999999989,-0.5499999999999989,-0.5499999999999989,-0.5499999999999989,-0.5499999999999989,-0.5499999999999989,-0.5499999999999989,-0.5499999999999989,-0.5499999999999989,-0.5499999999999989],[0.5,0.5,0.5,0.5,0.5,0.5,0.5,0.5,0.5,0.5,0.5,0.5,0.5,0.5,0.5,0.5,0.5,0.5,0.5,0.5,0.5],[1.5500000000000007,1.5500000000000007,1.5500000000000007,1.5500000000000007,1.5500000000000007,1.5500000000000007,1.5500000000000007,1.5500000000000007,1.5500000000000007,1.5500000000000007,1.5500000000000007,1.5500000000000007,1.5500000000000007,1.5500000000000007,1.5500000000000007,1.5500000000000007,1.5500000000000007,1.5500000000000007,1.5500000000000007,1.5500000000000007,1.5500000000000007],[2.6000000000000014,2.6000000000000014,2.6000000000000014,2.6000000000000014,2.6000000000000014,2.6000000000000014,2.6000000000000014,2.6000000000000014,2.6000000000000014,2.6000000000000014,2.6000000000000014,2.6000000000000014,2.6000000000000014,2.6000000000000014,2.6000000000000014,2.6000000000000014,2.6000000000000014,2.6000000000000014,2.6000000000000014,2.6000000000000014,2.6000000000000014],[3.6500000000000004,3.6500000000000004,3.6500000000000004,3.6500000000000004,3.6500000000000004,3.6500000000000004,3.6500000000000004,3.6500000000000004,3.6500000000000004,3.6500000000000004,3.6500000000000004,3.6500000000000004,3.6500000000000004,3.6500000000000004,3.6500000000000004,3.6500000000000004,3.6500000000000004,3.6500000000000004,3.6500000000000004,3.6500000000000004,3.6500000000000004],[4.700000000000001,4.700000000000001,4.700000000000001,4.700000000000001,4.700000000000001,4.700000000000001,4.700000000000001,4.700000000000001,4.700000000000001,4.700000000000001,4.700000000000001,4.700000000000001,4.700000000000001,4.700000000000001,4.700000000000001,4.700000000000001,4.700000000000001,4.700000000000001,4.700000000000001,4.700000000000001,4.700000000000001],[5.75,5.75,5.75,5.75,5.75,5.75,5.75,5.75,5.75,5.75,5.75,5.75,5.75,5.75,5.75,5.75,5.75,5.75,5.75,5.75,5.75],[6.800000000000001,6.800000000000001,6.800000000000001,6.800000000000001,6.800000000000001,6.800000000000001,6.800000000000001,6.800000000000001,6.800000000000001,6.800000000000001,6.800000000000001,6.800000000000001,6.800000000000001,6.800000000000001,6.800000000000001,6.800000000000001,6.800000000000001,6.800000000000001,6.800000000000001,6.800000000000001,6.800000000000001],[7.850000000000001,7.850000000000001,7.850000000000001,7.850000000000001,7.850000000000001,7.850000000000001,7.850000000000001,7.850000000000001,7.850000000000001,7.850000000000001,7.850000000000001,7.850000000000001,7.850000000000001,7.850000000000001,7.850000000000001,7.850000000000001,7.850000000000001,7.850000000000001,7.850000000000001,7.850000000000001,7.850000000000001],[8.900000000000002,8.900000000000002,8.900000000000002,8.900000000000002,8.900000000000002,8.900000000000002,8.900000000000002,8.900000000000002,8.900000000000002,8.900000000000002,8.900000000000002,8.900000000000002,8.900000000000002,8.900000000000002,8.900000000000002,8.900000000000002,8.900000000000002,8.900000000000002,8.900000000000002,8.900000000000002,8.900000000000002],[9.95,9.95,9.95,9.95,9.95,9.95,9.95,9.95,9.95,9.95,9.95,9.95,9.95,9.95,9.95,9.95,9.95,9.95,9.95,9.95,9.95],[11.0,11.0,11.0,11.0,11.0,11.0,11.0,11.0,11.0,11.0,11.0,11.0,11.0,11.0,11.0,11.0,11.0,11.0,11.0,11.0,11.0]],\"z\":[[153.92444290989343,150.96778128053515,147.14550329158203,142.13891899104092,135.50794656297697,126.6651751772163,114.87077691431128,99.22619183853347,78.29643454541466,46.64916820700475,44.550467181409005,77.11632978194122,98.365927032732,114.22106682171697,126.17690892091382,135.14230167799167,141.86404420849794,146.9369159822622,150.80752213859847,153.7996309952149,156.14455871208133],[131.37748038877604,128.98437018133237,125.88898736719493,121.83143274788554,116.45127495197215,109.26360472847996,99.64759477178777,86.82175192727864,69.47524882631154,42.65772606761241,40.85232142864903,68.48894006005524,86.11352683759841,99.11672197565207,108.86623455849734,116.15437807748471,121.60855299971524,125.72001132172521,128.85462625669604,131.2764794109969,133.17375348409715],[110.72989140317135,108.84094556772645,106.39607049035448,103.18821477101235,98.92875079081064,93.22569219325135,85.56751740019361,75.2844695605336,61.19610083938456,38.85477537103606,37.32555439962304,60.387190473271666,74.71380429712262,85.1436051131259,92.90991988928056,98.69347945476453,103.01190215971397,106.26255038444666,108.73850514915765,110.65018941365452,112.14707421062434],[91.98167595307939,90.53750743971736,88.66675266106073,86.20926506042137,82.94037407949237,78.55143757153037,72.63054479952875,64.61434473829827,53.45899058463373,35.240316117275725,33.970166094331006,52.81108102159043,64.16675941130453,72.30171623413842,78.30796491326336,82.75960580983103,86.07409168849408,88.56453317042646,90.45915881598324,91.92076100318775,93.06452089166285],[75.13283403850015,74.07405579730508,72.70103387931368,70.89458361611256,68.48614481801745,65.24084086331713,60.83667696979326,54.811377460572714,46.26391806205901,31.81434830633137,30.786156512772944,45.76061170501161,54.47239218014423,60.591055338689664,65.06036963044585,68.35275714268427,70.79512158605564,72.62595967966466,74.01658725717286,75.08819417959657,75.92609352721273],[60.18336565943364,59.45059064048964,58.49891414511336,57.24417043808592,55.56606300638583,53.29390206861159,50.185913910987075,45.87556772735691,39.61088327166045,28.576871938203013,27.773525654948866,39.235782523535164,45.63070260364166,50.01162242677963,53.16713404082799,55.47293345332423,57.174991852398605,58.44682991216126,59.410790472726504,60.15248894288102,60.73179211727398],[47.133270815879825,46.667111969271,46.060393458459714,45.25802552634146,44.180128644597474,42.71062118741374,40.678255623110246,37.80691553865085,33.499886213437996,25.52788701289066,24.932273520858757,33.23659347716109,37.64169068179686,40.56341749840829,42.62825814440978,44.120134741750924,45.21370248752296,46.027143867916266,46.64176846264414,47.11364529304106,47.48161666184658],[35.98254950783874,35.72361978364919,35.385471819352745,34.9361488808792,34.32834173265243,33.490998219723615,32.31370210616273,30.605420894454546,27.93092688739169,22.667393530394296,22.262400110502632,27.7630445658894,30.505356414609814,32.24644055357568,33.44374194119121,34.29436100796435,34.91125349142877,35.366901546929654,35.709521226925794,35.971663230076736,36.175567160930534],[26.731201735310368,26.620114083624216,26.47414922779249,26.27854050169913,26.010702270550688,25.63503316554118,25.09225336014454,24.271083794768,22.904005293521518,19.995391490713928,19.76390542388046,22.815135789720074,24.221699802080522,25.06069159228178,25.613585431172318,25.995612251964502,26.267644864115987,26.46610294920145,26.614048765571468,26.726542753988006,26.813643614525862],[19.379227498294714,19.356594869196055,19.32642568377893,19.285200388801236,19.227210258292235,19.142726024866445,19.013909385055687,18.8039042395912,18.41912143182748,17.511880893849547,17.436789460992266,18.39286714865315,18.790720844208973,19.006170614526596,19.13778861435307,19.223888473751384,19.282876605584605,19.324748074731627,19.355351078581158,19.378283864774875,19.39584602263254],[13.926626796791796,13.933062140364722,13.942301187312074,13.95612854218553,13.977865695877087,14.01407679769942,14.07867018089617,14.20388222892416,14.476275302309581,15.216861739801175,15.281052221838054,14.496238642688603,14.212419540995189,14.082877620310136,14.016351490733477,13.979189673325,13.956948715834658,13.942836923520204,13.933428165954867,13.926886562437362,13.922174385250592],[10.373399630801583,10.349515897130205,10.321775738391905,10.291324961852004,10.262668583305233,10.249085484040098,10.28653574766597,10.471017762766863,11.07546690496781,13.110334028568788,13.296693706417802,11.125250271826422,10.486795892439154,10.290812609632374,10.249274060313532,10.261515850685337,10.289861194866116,10.32036949556717,10.348280027692578,10.372350846975452,10.392628702379993],[8.71954600032409,8.605956139492518,8.464849337018434,8.290789647800654,8.08161892057667,7.847752083888472,7.637506085365109,7.60531084111932,8.216696239802177,11.192297760152401,11.483713914731524,8.279902036066629,7.613849898540875,7.6299755824933335,7.836556323093249,8.070867005832403,8.281614042678994,8.457345790872537,8.599906663794313,8.71467671838915,8.807208974020757],[8.965065905359317,8.702382867451654,8.371521983191663,7.954522600031496,7.434716707691407,6.8100765972445565,6.131581193993578,5.606761463981534,5.89996330681268,9.46275293455201,9.842112846779225,5.960193935409217,5.593581559300352,6.1003665388930095,6.778198279072618,7.407243138766198,7.932207259273289,8.353765809436297,8.688308074260059,8.953864176678458,9.16591520017288],[11.109959345907269,10.63879608100761,10.041793676911585,9.282523818544519,8.32196194464944,7.13605902410834,5.768761073551377,4.475369631353496,4.125268105999314,7.92169955176761,8.371890502560897,4.166125969854181,4.425990874717581,5.7019854788314,7.074199928251636,8.27064424948672,9.241640844648998,10.009629551258453,10.61348425908982,11.089913221843373,11.468747380836364],[15.154226321967924,14.415195780160388,13.475664418178201,12.274793303339722,10.743354631450764,8.825699364479823,6.5490457240385025,4.21113534323521,2.8926106373620866,6.569137611799209,7.0730468820765395,2.897698139401527,4.1110778447925655,6.434832402308502,8.724561270630309,10.66107033799397,12.20991479880612,13.424937016338998,14.375435218283588,15.122823853883892,15.715705516011202],[21.097866833541307,20.031581964909996,18.673134206991516,16.931331054417118,14.698894768095395,11.878997618359016,8.472435145454964,4.814058599626676,2.2019909009009915,5.405067114646801,5.945581985326153,2.154910444051252,4.648842469525303,8.29890730932432,11.729282306208638,14.57852140428795,16.837029121744667,18.599688204677946,19.974160951841387,21.052596072800025,21.90678960569741],[28.940880880627418,27.48795463525643,25.634203043351537,23.252137071776687,20.18858235458332,16.295953785745912,11.538929337800752,6.284139400527896,2.053408896616031,4.429488060310388,4.98949581230974,1.9377628838033574,6.039284748915796,11.294210199878858,16.088363034986624,20.022997448368656,23.12298381346463,25.533883116275288,27.40966145976319,28.879229878591772,30.041999649894976],[38.68326846322625,36.784313791199686,34.35887092725825,31.23721135541846,27.212417390914542,22.076567866640513,15.748528301075876,8.621377745938867,2.446864624507206,3.6424004487899695,4.2047883630272995,2.2462554586578425,8.282404682964046,15.420741073972108,21.801803456964265,26.994498470236103,31.06777887396601,34.22752175113103,36.68193674204902,38.60272527125912,40.12133564860391],[50.32502958133775,47.92065943273974,44.84713785871163,40.886553905342375,35.770399877089034,29.22083986104279,21.10123203528032,11.82577363585958,3.3823580845745114,3.043804280085549,3.591459637478834,3.080388168614705,11.378202271670036,20.678499931604055,28.86960357214153,35.49302446989023,40.671414303248774,44.68060410924513,47.790986798698825,50.22308225080204,52.14479760182416],[63.86616423496203,60.89699155987664,57.099003837711734,52.20016472154851,45.86252981310686,37.728769768952795,27.597040540414095,15.897327070290055,4.859889276817955,2.633699554197122,3.149509635664338,4.440161013673949,15.326677515033795,27.067486772774732,37.29176338051847,45.51857544733114,51.93389010131298,56.893130190617654,60.73681162971268,63.740300817220614,66.11238550955579]],\"type\":\"surface\",\"scene\":\"scene2\"}],                        {\"template\":{\"data\":{\"bar\":[{\"error_x\":{\"color\":\"#2a3f5f\"},\"error_y\":{\"color\":\"#2a3f5f\"},\"marker\":{\"line\":{\"color\":\"#E5ECF6\",\"width\":0.5},\"pattern\":{\"fillmode\":\"overlay\",\"size\":10,\"solidity\":0.2}},\"type\":\"bar\"}],\"barpolar\":[{\"marker\":{\"line\":{\"color\":\"#E5ECF6\",\"width\":0.5},\"pattern\":{\"fillmode\":\"overlay\",\"size\":10,\"solidity\":0.2}},\"type\":\"barpolar\"}],\"carpet\":[{\"aaxis\":{\"endlinecolor\":\"#2a3f5f\",\"gridcolor\":\"white\",\"linecolor\":\"white\",\"minorgridcolor\":\"white\",\"startlinecolor\":\"#2a3f5f\"},\"baxis\":{\"endlinecolor\":\"#2a3f5f\",\"gridcolor\":\"white\",\"linecolor\":\"white\",\"minorgridcolor\":\"white\",\"startlinecolor\":\"#2a3f5f\"},\"type\":\"carpet\"}],\"choropleth\":[{\"colorbar\":{\"outlinewidth\":0,\"ticks\":\"\"},\"type\":\"choropleth\"}],\"contour\":[{\"colorbar\":{\"outlinewidth\":0,\"ticks\":\"\"},\"colorscale\":[[0.0,\"#0d0887\"],[0.1111111111111111,\"#46039f\"],[0.2222222222222222,\"#7201a8\"],[0.3333333333333333,\"#9c179e\"],[0.4444444444444444,\"#bd3786\"],[0.5555555555555556,\"#d8576b\"],[0.6666666666666666,\"#ed7953\"],[0.7777777777777778,\"#fb9f3a\"],[0.8888888888888888,\"#fdca26\"],[1.0,\"#f0f921\"]],\"type\":\"contour\"}],\"contourcarpet\":[{\"colorbar\":{\"outlinewidth\":0,\"ticks\":\"\"},\"type\":\"contourcarpet\"}],\"heatmap\":[{\"colorbar\":{\"outlinewidth\":0,\"ticks\":\"\"},\"colorscale\":[[0.0,\"#0d0887\"],[0.1111111111111111,\"#46039f\"],[0.2222222222222222,\"#7201a8\"],[0.3333333333333333,\"#9c179e\"],[0.4444444444444444,\"#bd3786\"],[0.5555555555555556,\"#d8576b\"],[0.6666666666666666,\"#ed7953\"],[0.7777777777777778,\"#fb9f3a\"],[0.8888888888888888,\"#fdca26\"],[1.0,\"#f0f921\"]],\"type\":\"heatmap\"}],\"heatmapgl\":[{\"colorbar\":{\"outlinewidth\":0,\"ticks\":\"\"},\"colorscale\":[[0.0,\"#0d0887\"],[0.1111111111111111,\"#46039f\"],[0.2222222222222222,\"#7201a8\"],[0.3333333333333333,\"#9c179e\"],[0.4444444444444444,\"#bd3786\"],[0.5555555555555556,\"#d8576b\"],[0.6666666666666666,\"#ed7953\"],[0.7777777777777778,\"#fb9f3a\"],[0.8888888888888888,\"#fdca26\"],[1.0,\"#f0f921\"]],\"type\":\"heatmapgl\"}],\"histogram\":[{\"marker\":{\"pattern\":{\"fillmode\":\"overlay\",\"size\":10,\"solidity\":0.2}},\"type\":\"histogram\"}],\"histogram2d\":[{\"colorbar\":{\"outlinewidth\":0,\"ticks\":\"\"},\"colorscale\":[[0.0,\"#0d0887\"],[0.1111111111111111,\"#46039f\"],[0.2222222222222222,\"#7201a8\"],[0.3333333333333333,\"#9c179e\"],[0.4444444444444444,\"#bd3786\"],[0.5555555555555556,\"#d8576b\"],[0.6666666666666666,\"#ed7953\"],[0.7777777777777778,\"#fb9f3a\"],[0.8888888888888888,\"#fdca26\"],[1.0,\"#f0f921\"]],\"type\":\"histogram2d\"}],\"histogram2dcontour\":[{\"colorbar\":{\"outlinewidth\":0,\"ticks\":\"\"},\"colorscale\":[[0.0,\"#0d0887\"],[0.1111111111111111,\"#46039f\"],[0.2222222222222222,\"#7201a8\"],[0.3333333333333333,\"#9c179e\"],[0.4444444444444444,\"#bd3786\"],[0.5555555555555556,\"#d8576b\"],[0.6666666666666666,\"#ed7953\"],[0.7777777777777778,\"#fb9f3a\"],[0.8888888888888888,\"#fdca26\"],[1.0,\"#f0f921\"]],\"type\":\"histogram2dcontour\"}],\"mesh3d\":[{\"colorbar\":{\"outlinewidth\":0,\"ticks\":\"\"},\"type\":\"mesh3d\"}],\"parcoords\":[{\"line\":{\"colorbar\":{\"outlinewidth\":0,\"ticks\":\"\"}},\"type\":\"parcoords\"}],\"pie\":[{\"automargin\":true,\"type\":\"pie\"}],\"scatter\":[{\"marker\":{\"colorbar\":{\"outlinewidth\":0,\"ticks\":\"\"}},\"type\":\"scatter\"}],\"scatter3d\":[{\"line\":{\"colorbar\":{\"outlinewidth\":0,\"ticks\":\"\"}},\"marker\":{\"colorbar\":{\"outlinewidth\":0,\"ticks\":\"\"}},\"type\":\"scatter3d\"}],\"scattercarpet\":[{\"marker\":{\"colorbar\":{\"outlinewidth\":0,\"ticks\":\"\"}},\"type\":\"scattercarpet\"}],\"scattergeo\":[{\"marker\":{\"colorbar\":{\"outlinewidth\":0,\"ticks\":\"\"}},\"type\":\"scattergeo\"}],\"scattergl\":[{\"marker\":{\"colorbar\":{\"outlinewidth\":0,\"ticks\":\"\"}},\"type\":\"scattergl\"}],\"scattermapbox\":[{\"marker\":{\"colorbar\":{\"outlinewidth\":0,\"ticks\":\"\"}},\"type\":\"scattermapbox\"}],\"scatterpolar\":[{\"marker\":{\"colorbar\":{\"outlinewidth\":0,\"ticks\":\"\"}},\"type\":\"scatterpolar\"}],\"scatterpolargl\":[{\"marker\":{\"colorbar\":{\"outlinewidth\":0,\"ticks\":\"\"}},\"type\":\"scatterpolargl\"}],\"scatterternary\":[{\"marker\":{\"colorbar\":{\"outlinewidth\":0,\"ticks\":\"\"}},\"type\":\"scatterternary\"}],\"surface\":[{\"colorbar\":{\"outlinewidth\":0,\"ticks\":\"\"},\"colorscale\":[[0.0,\"#0d0887\"],[0.1111111111111111,\"#46039f\"],[0.2222222222222222,\"#7201a8\"],[0.3333333333333333,\"#9c179e\"],[0.4444444444444444,\"#bd3786\"],[0.5555555555555556,\"#d8576b\"],[0.6666666666666666,\"#ed7953\"],[0.7777777777777778,\"#fb9f3a\"],[0.8888888888888888,\"#fdca26\"],[1.0,\"#f0f921\"]],\"type\":\"surface\"}],\"table\":[{\"cells\":{\"fill\":{\"color\":\"#EBF0F8\"},\"line\":{\"color\":\"white\"}},\"header\":{\"fill\":{\"color\":\"#C8D4E3\"},\"line\":{\"color\":\"white\"}},\"type\":\"table\"}]},\"layout\":{\"annotationdefaults\":{\"arrowcolor\":\"#2a3f5f\",\"arrowhead\":0,\"arrowwidth\":1},\"autotypenumbers\":\"strict\",\"coloraxis\":{\"colorbar\":{\"outlinewidth\":0,\"ticks\":\"\"}},\"colorscale\":{\"diverging\":[[0,\"#8e0152\"],[0.1,\"#c51b7d\"],[0.2,\"#de77ae\"],[0.3,\"#f1b6da\"],[0.4,\"#fde0ef\"],[0.5,\"#f7f7f7\"],[0.6,\"#e6f5d0\"],[0.7,\"#b8e186\"],[0.8,\"#7fbc41\"],[0.9,\"#4d9221\"],[1,\"#276419\"]],\"sequential\":[[0.0,\"#0d0887\"],[0.1111111111111111,\"#46039f\"],[0.2222222222222222,\"#7201a8\"],[0.3333333333333333,\"#9c179e\"],[0.4444444444444444,\"#bd3786\"],[0.5555555555555556,\"#d8576b\"],[0.6666666666666666,\"#ed7953\"],[0.7777777777777778,\"#fb9f3a\"],[0.8888888888888888,\"#fdca26\"],[1.0,\"#f0f921\"]],\"sequentialminus\":[[0.0,\"#0d0887\"],[0.1111111111111111,\"#46039f\"],[0.2222222222222222,\"#7201a8\"],[0.3333333333333333,\"#9c179e\"],[0.4444444444444444,\"#bd3786\"],[0.5555555555555556,\"#d8576b\"],[0.6666666666666666,\"#ed7953\"],[0.7777777777777778,\"#fb9f3a\"],[0.8888888888888888,\"#fdca26\"],[1.0,\"#f0f921\"]]},\"colorway\":[\"#636efa\",\"#EF553B\",\"#00cc96\",\"#ab63fa\",\"#FFA15A\",\"#19d3f3\",\"#FF6692\",\"#B6E880\",\"#FF97FF\",\"#FECB52\"],\"font\":{\"color\":\"#2a3f5f\"},\"geo\":{\"bgcolor\":\"white\",\"lakecolor\":\"white\",\"landcolor\":\"#E5ECF6\",\"showlakes\":true,\"showland\":true,\"subunitcolor\":\"white\"},\"hoverlabel\":{\"align\":\"left\"},\"hovermode\":\"closest\",\"mapbox\":{\"style\":\"light\"},\"paper_bgcolor\":\"white\",\"plot_bgcolor\":\"#E5ECF6\",\"polar\":{\"angularaxis\":{\"gridcolor\":\"white\",\"linecolor\":\"white\",\"ticks\":\"\"},\"bgcolor\":\"#E5ECF6\",\"radialaxis\":{\"gridcolor\":\"white\",\"linecolor\":\"white\",\"ticks\":\"\"}},\"scene\":{\"xaxis\":{\"backgroundcolor\":\"#E5ECF6\",\"gridcolor\":\"white\",\"gridwidth\":2,\"linecolor\":\"white\",\"showbackground\":true,\"ticks\":\"\",\"zerolinecolor\":\"white\"},\"yaxis\":{\"backgroundcolor\":\"#E5ECF6\",\"gridcolor\":\"white\",\"gridwidth\":2,\"linecolor\":\"white\",\"showbackground\":true,\"ticks\":\"\",\"zerolinecolor\":\"white\"},\"zaxis\":{\"backgroundcolor\":\"#E5ECF6\",\"gridcolor\":\"white\",\"gridwidth\":2,\"linecolor\":\"white\",\"showbackground\":true,\"ticks\":\"\",\"zerolinecolor\":\"white\"}},\"shapedefaults\":{\"line\":{\"color\":\"#2a3f5f\"}},\"ternary\":{\"aaxis\":{\"gridcolor\":\"white\",\"linecolor\":\"white\",\"ticks\":\"\"},\"baxis\":{\"gridcolor\":\"white\",\"linecolor\":\"white\",\"ticks\":\"\"},\"bgcolor\":\"#E5ECF6\",\"caxis\":{\"gridcolor\":\"white\",\"linecolor\":\"white\",\"ticks\":\"\"}},\"title\":{\"x\":0.05},\"xaxis\":{\"automargin\":true,\"gridcolor\":\"white\",\"linecolor\":\"white\",\"ticks\":\"\",\"title\":{\"standoff\":15},\"zerolinecolor\":\"white\",\"zerolinewidth\":2},\"yaxis\":{\"automargin\":true,\"gridcolor\":\"white\",\"linecolor\":\"white\",\"ticks\":\"\",\"title\":{\"standoff\":15},\"zerolinecolor\":\"white\",\"zerolinewidth\":2}}},\"scene\":{\"domain\":{\"x\":[0.0,0.45],\"y\":[0.0,1.0]}},\"scene2\":{\"domain\":{\"x\":[0.55,1.0],\"y\":[0.0,1.0]}}},                        {\"responsive\": true}                    ).then(function(){\n",
              "                            \n",
              "var gd = document.getElementById('24a73677-866d-4a0f-b110-40af6edeee7d');\n",
              "var x = new MutationObserver(function (mutations, observer) {{\n",
              "        var display = window.getComputedStyle(gd).display;\n",
              "        if (!display || display === 'none') {{\n",
              "            console.log([gd, 'removed!']);\n",
              "            Plotly.purge(gd);\n",
              "            observer.disconnect();\n",
              "        }}\n",
              "}});\n",
              "\n",
              "// Listen for the removal of the full notebook cells\n",
              "var notebookContainer = gd.closest('#notebook-container');\n",
              "if (notebookContainer) {{\n",
              "    x.observe(notebookContainer, {childList: true});\n",
              "}}\n",
              "\n",
              "// Listen for the clearing of the current output cell\n",
              "var outputEl = gd.closest('.output');\n",
              "if (outputEl) {{\n",
              "    x.observe(outputEl, {childList: true});\n",
              "}}\n",
              "\n",
              "                        })                };                            </script>        </div>\n",
              "</body>\n",
              "</html>"
            ]
          },
          "metadata": {}
        }
      ]
    },
    {
      "cell_type": "code",
      "source": [
        "# Gauss-Newton algorithm which can adjust the parameters of the Lorentzian \n",
        "# to optimally fit the curve to the data provided above\n",
        "\n",
        "T = tf.transpose\n",
        "backtracking = True\n",
        "theta = tf.Variable(np.array([8.0,0.5,2.0]))\n",
        "#theta = tf.Variable(np.array([1.,4.,.1]))\n",
        "#theta = tf.Variable(np.array([4., 3., 2.]))\n",
        "#theta = tf.Variable(np.array([5.,3.,2.]))\n",
        "K = 15\n",
        "for k in range(K):\n",
        "    plt.plot(x,Lorentzian(theta, x), color=plt.get_cmap('gray')((K-k)/(2*K)))\n",
        "    with tf.GradientTape() as t:\n",
        "        yhat = Lorentzian(theta, x)\n",
        "    ytilde = tf.expand_dims(y-yhat,-1)\n",
        "    # https://www.tensorflow.org/guide/advanced_autodiff\n",
        "    Jf_theta = t.jacobian(yhat, theta)\n",
        "    JtJ = T(Jf_theta)@Jf_theta\n",
        "    prop = tf.Variable(tf.linalg.solve(JtJ, \n",
        "                       JtJ@tf.expand_dims(theta,-1) + T(Jf_theta)@ytilde)[:,0])\n",
        "\n",
        "    # ensure monotonic divergence with linesearch\n",
        "    if backtracking:\n",
        "      for i in range(K):\n",
        "        if np.abs(y-Lorentzian(prop, x)).sum()>np.abs(y-Lorentzian(theta, x)).sum():\n",
        "          prop = (prop+theta)/2\n",
        "        else:\n",
        "          break\n",
        "    theta = tf.Variable(prop)\n",
        "\n",
        "plt.plot(x,y); plt.ylim((-2,12))\n",
        "theta"
      ],
      "metadata": {
        "colab": {
          "base_uri": "https://localhost:8080/",
          "height": 287
        },
        "id": "TGojtoC-qsBe",
        "outputId": "f2d1f1d4-91b1-4666-f352-cb5c7f5bc6d4"
      },
      "execution_count": null,
      "outputs": [
        {
          "output_type": "execute_result",
          "data": {
            "text/plain": [
              "<tf.Variable 'Variable:0' shape=(3,) dtype=float64, numpy=array([ 9.98279525, -0.05594757,  0.95997712])>"
            ]
          },
          "metadata": {},
          "execution_count": 153
        },
        {
          "output_type": "display_data",
          "data": {
            "text/plain": [
              "<Figure size 432x288 with 1 Axes>"
            ],
            "image/png": "[encoded data removed]"
          },
          "metadata": {
            "needs_background": "light"
          }
        }
      ]
    },
    {
      "cell_type": "markdown",
      "source": [
        "\n",
        "<a name=\"cell-opt-fx-3\"></a>\n",
        "\n",
        "# 10.1 Altering Newton's Methods ([Return to TOC](#cell-TOC-opt)) \n",
        "\n",
        "---\n",
        "\n",
        "Iterative updates should be ***fixed point iteration methods*** of the form $x^{(t+1)} = x^{(t)} + \\alpha h(x^{(t)})$ for $\\alpha \\neq 0$ which optimize $g(x^{(t)})$ with ***positive definite Hessian*** $H_{g(x)}$ such as\n",
        "\n",
        "- $x^{(t+1)} = x^{(t)} - \\alpha H_{g(x)}^{-1}(x^{(t)})\\nabla_x g(x^{(t)})$\n",
        "  > which (as seen previously) converges if $||\\alpha H_{g(x)}^{-1}(x^{(t)})H_{g(x)}(x^*)||=\\lambda_\\max < 1$ which is true for constant $H_{g(x)}$ and $\\alpha=1$ since then $\\left|\\left| I - \\alpha H_{g(x)}^{-1}(x^{(t)}) H_{g(x)}(x^*) \\right|\\right| = ||I-I||=0<1$\n",
        "\n",
        "- $x^{(t+1)} = x^{(t)} - \\alpha I \\nabla_x g(x^{(t)})$\n",
        "  > which (following from the above) converges if $||\\alpha H_{g(x)}(x^*)||=\\lambda_\\max < 1$ and the smaller $\\left|\\left| I - \\alpha H_{g(x)}(x^*) \\right|\\right| < 1$ the faster the convergence will be\n",
        "\n",
        "- $x^{(t+1)} = x^{(t)} - \\alpha [M^{(t)}]^{-1}\\nabla_x g(x^{(t)})$ \n",
        "  > which converges if $||\\alpha [M^{(t)}]^{-1}H_{g(x)}(x^*)||=\\lambda_\\max < 1$ and the smaller $\\left|\\left| I - \\alpha [M^{(t)}]^{-1}H_{g(x)}(x^*) \\right|\\right| < 1$ the faster the convergence will be\n"
      ],
      "metadata": {
        "id": "QZTVcIVNncC3"
      }
    },
    {
      "cell_type": "markdown",
      "source": [
        "<a name=\"cell-opt-fx-newtonlike\"></a>\n",
        "\n",
        "## 10.1.0 Newton-Like Methods ([Return to TOC](#cell-TOC-opt)) \n",
        "\n",
        "---\n",
        "\n",
        "***Newton-like methods*** use simpler alternatives $M^{(t)}$ in place of the Hessian $H_{g(z)}(z^{(t)})$ in order to substitue\n",
        "\n",
        "$$x^{(t+1)} = x^{(t)} - \\alpha[M^{(t)}]^{-1}\\nabla_x g(x^{(t)}) \\quad \\text{ for } \\quad x^{(t+1)} = x^{(t)} - \\alpha\\left[H_{g(x)}(x^{(t)})\\right]^{-1}\\nabla_x g(x^{(t)})$$\n",
        "\n",
        "While the approximation $M^{(t)} \\approx H_{g(x)}(x^{(t)})$ may attempt to be accurate, it may be more computationally efficient to instead use a simple $M^{(t)}$ that's easy to compute and then simply perform more overall updates $x^{(t+1)} = x^{(t)} + g(x^{(t)})$. This is the motivation behind the seemingly misguided $\\alpha I \\approx \\alpha H_{g(x)}(z^{(t)})$ strategy. \n",
        "\n",
        "> To avoid computing the $O(n^3)$ inversion $[M^{(t)}]^{-1}$ when solving for the update direction $d = \\nabla_x [M^{(t)}]^{-1} f(x)$, the direction $d$ can be found by solving for $d$ in $M^{(t)}d = \\nabla_x f(x)$. The ***Gauss-Seidel*** and ***conjugate gradient descent*** $O(sn^2)$ ***iterative methods*** can be particularly computationally beneficial for high dimensional $d$. Such an approach is known as a ***Truncated Newton methods***, where \"truncated\" refers to the number of steps $s$ used to approximate the solution $d$. ***Truncated Newton methods*** can be ***Newton-like methods*** in their  \"outer loop\", but they also have an \"inner loop\" of $s$ steps in which they approximate the update direction $d$. "
      ],
      "metadata": {
        "id": "_EIdj3NIiEs0"
      }
    },
    {
      "cell_type": "markdown",
      "source": [
        "<a name=\"cell-opt-fx-newton-like-ascent\"></a>\n",
        "\n",
        "### Ensuring Monotonic Iteration ([Return to TOC](#cell-TOC-opt)) \n",
        "\n",
        "---\n",
        "\n",
        "***Newton-like updates*** $x^{(t+1)} = x^{(t)} - \\alpha M^{-1}\\nabla_x g(x^{(t)})$ move towards $x^*$ such that $\\nabla_x g(x^*) = 0$, but only in a  monotonically decreasing (increasing) manner if $M$ is ***positive*** (***negative***) ***definite*** and some sufficiently small ***learning rate*** $\\alpha \\neq 0$.\n",
        "\n",
        "Since \n",
        "- $M+cI$ will (have all positive ***eigenvalues*** and) be positive definite if $c>0$ is large enough   \n",
        "- $M+cI$ will (have all negative ***eigenvalues*** and) be negative definite if $c<0$ is small enough \n",
        "\n",
        "> and these forms of definiteness could also be achieved with diagonal $D_c$ with $[D_c]_{ii} = c_i$ which minimizes alteration of the original $M$ through the so-called [***modified Cholesky decomposition***](https://nhigham.com/2020/12/22/what-is-a-modified-cholesky-factorization/)\n",
        "\n",
        "***modified Newton methods*** guarantee monotonic convergence by instead updating\n",
        "\n",
        "$$x^{(t+1)} = x^{(t)} - \\alpha \\underset{\\text{or } M+D_c}{(M+cI)}^{-1}\\nabla_x g(x^{(t)})$$\n",
        "\n",
        "This guarantees monotonic $g(x^{(t+1)})<g(x^{(t)})$ since $(M+cI)^{-1}\\nabla_x g(x^{(t)})$ will have the same signs as $\\nabla_x g(x^{(t)})$ and so \n",
        "$$g\\left(x^{(t)} - \\alpha {(M+cI)}^{-1}\\nabla_x g(x^{(t)})\\right)$$\n",
        "\n",
        "must be less than $g(x^{(t)})$ for some small $\\alpha>0$.\n",
        "\n",
        "> Since ***gradient descent*** follows the direction of steepest descent of $g$ at $x^{(t)}$ (by moving in the negative direction of the gradient) for some small step size factor $\\alpha^{(t)} > 0$, since $I$ is positive definite, we will have that $g(x^{(t+1)}) < g(x^{(t)})$.\n",
        "\n",
        "The ***step size factor*** $\\alpha$ can be found by the ***line search method*** of ***backtracking***. If monotonic convergence is violated for a specific $\\alpha^{(t)}$ then is can be made smaller."
      ],
      "metadata": {
        "id": "x0ZE7wArcFui"
      }
    },
    {
      "cell_type": "markdown",
      "source": [
        "<a name=\"cell-opt-fx-quasi-newton\"></a>\n",
        "\n",
        "## 10.1.1 Quasi-Newton Methods ([Return to TOC](#cell-TOC-opt)) \n",
        "\n",
        "---\n",
        "\n",
        "As noted previously, the naive generalization of the ***secant method*** to scalar valued multivariate functions as a discrete approximation to ***Newton's method*** does not offer any computational incentives over simply computing the Hessian itself.  However, for \n",
        "\n",
        "- sequential iterations $\\quad x^{(t)}$ and $x^{(t-1)}$\n",
        "- sequential gradients  $\\quad \\nabla_{x}g(x^{(t)})$ and $\\nabla_{x}g(x^{(t-1)})$\n",
        "\n",
        "an $M^{(t)}$ satisfying the so-called ***secant condition***\n",
        "\n",
        "$$ \\underbrace{\\nabla_{x}g(x^{(t)}) - \\nabla_{x}g(x^{(t-1)})}_{\\Delta^{(t)}_{\\nabla_{x}g}} = M^{(t)}\\underbrace{(x^{(t)} - x^{(t-1)})}_{\\Delta_x^{(t)}}$$\n",
        "\n",
        "provides the discrete ***secant*** approximation of the Hessian where\n",
        "\n",
        "$$x^{(t+1)} = x^{(t)} - \\left[M^{(t)}\\right]^{-1}\\nabla_x g(x^{(t)}) \\quad \\text{ replaces } \\quad x^{(t+1)} = x^{(t)} - \\left[H_{g(x)}(x^{(t)})\\right]^{-1}\\nabla_x g(x^{(t)})$$\n",
        "\n",
        "and where $M^{(t)}$ which satisfies the ***secand condition*** can be derived iteratively on the basis of $M^{(t-1)}$ which itself already satisfies the ***secand condition***. This is shown in the following material, but understanding that there are available calculations here is more important than understanding the specific computations themsevles.\n",
        "\n",
        "> This ***secant condition*** alone does not provide an efficient calculation of $M^{(t)}$, but the (computationally inexpensive) ***rank-one update*** [derived here](https://personal.math.ubc.ca/~loew/m604/web-ho/sr1.pdf)\n",
        ">\n",
        "> $$M^{(t)} = M^{(t-1)} + \\underbrace{\\frac{v^{(t)}[v^{(t)}]^T}{[v^{(t)}]^T\\Delta_x^{(t)}c}}_{\\text{rank-one update}} \\quad \\text{ where } \\quad v^{(t)} = \\left(\\Delta^{(t)}_{\\nabla_{x}g} - M^{(t-1)}\\Delta_x^{(t)}\\right)$$\n",
        ">\n",
        "> results in $M^{(t)}$ which satisfies the ***secant condition***, subject to the following caveats.\n",
        "> - If the denomenator $[v^{(t)}]^T\\Delta_x^{(t)} \\approx 0$, the update might need to be skipped by setting $M^{(t+1)} = M^{(t)}$.\n",
        "> - If the denomenator $[v^{(t)}]^T\\Delta_x^{(t)}<0$ $(>0)$ and $M^{(t-1)}$ is ***negative*** $($***positive***$)$ ***definite***, then $M^{(t)}$ will be as well.\n",
        ">   - Thus, this update only guarantees ***hereditary positive $($negative$)$ definiteness*** under the above conditions; however,\n",
        ">   - scaling $[v^{(t)}]^T\\Delta_x^{(t)}$ in the denominator by some large factor $c$ so the update contributes less to $M^{(t)}$ can maintain the definiteness state.\n",
        "\n",
        "> A ***rank-two version*** of the above which both satisfies the ***secant condition*** and confers ***hereditary definiteness*** is the so-called ***BFGS*** update (named after its authors). The (*rank-two*) ***BFGS*** update is just the (*rank-two*) ***Broyden class update*** \n",
        "> \n",
        "> $$\\begin{align*} M^{(t)} = {} & M^{(t-1)} - \\frac{M^{(t-1)}\\Delta_x^{(t)} [M^{(t-1)}\\Delta_x^{(t)}]^T}{[\\Delta_x^{(t)}]^TM^{(t-1)}\\Delta_x^{(t)}} + \\frac{\\Delta^{(t)}_{\\nabla_{x}g}[\\Delta^{(t)}_{\\nabla_{x}g}]^T}{[\\Delta_x^{(t)}]^T\\Delta^{(t)}_{\\nabla_{x}g}} + \\delta^{(t)}\\left([\\Delta_x^{(t)}]^TM^{(t-1)}\\Delta_x^{(t)} \\right)[d^{(t)}]^Td^{(t)}\\\\\n",
        "{} & \\text{where } d^{(t)} = \\frac{\\Delta^{(t)}_{\\nabla_{x}g}}{[\\Delta_x^{(t)}]^T\\Delta^{(t)}_{\\nabla_{x}g}} - \\frac{M^{(t-1)}\\Delta_x^{(t)}}{[\\Delta_x^{(t)}]^TM^{(t-1)}\\Delta_x^{(t)}}\n",
        "\\end{align*}$$\n",
        ">\n",
        "> with $\\delta^{(t)}=0$. \n",
        "\n",
        "> A few points to note regarding ***quasi-Newton methods*** are:\n",
        "> - many authors find the ***rank-one update*** to have superior performance to ***Broyden class updates***, including ***BFGS***\n",
        "- the above ***BFGS*** update is numerically unstable, and is better approached through a ***Cholesky decomposition*** \n",
        ">   - ***quasi-Newton methods*** are very sensitive to the scale of the $x_i$ comprising $x$, with performance tending to be better for similarly scaled $x_i$\n",
        ">   - ***quasi-Newton methods*** are very sensitive to the initial choice $M^{(0)}$ though for similarly scaled $x_i$ starting with $I$ (for minimization) or $-I$ (for maximization) is usually sufficient; however, in maximum likelihood estimation contexts starting with $-I(\\theta^{(0)})$ is usually a better choice\n",
        "- the ***observed information*** (i.e., the negative Hessian) provides a point estimate of the ***precision*** (i.e., inverse covariance) structure of $p(\\hat \\theta) \\approx N(\\theta, \\Sigma^{-1} = -H_{l(\\theta)}(\\hat \\theta))$, but quasi-Newton methods  (intentionally) do not provide close estimates of the Hessian; so, for statistical purposes, re-estimating the ***observed information*** upon convergence is an obligatory final step, e.g., with the ***central difference approximation***\n",
        ">\n",
        ">   $$ \\widehat{[H_{l(\\theta)}(\\theta^{(t)})]}_{ij} = \\frac{[\\nabla_\\theta l(\\theta^{(t)} + h_{ij}e_j)]_i - [\\nabla_\\theta l(\\theta^{(t)} - h_{ij}e_j)]_i}{2h_{ij}} $$\n",
        ">   perhaps with $h_{ij} = h = \\epsilon^{\\frac{1}{3}}$ where $\\epsilon$ is the available computer precision. "
      ],
      "metadata": {
        "id": "N9dBEPmioiGQ"
      }
    },
    {
      "cell_type": "code",
      "source": [
        "np.random.seed(3)\n",
        "alpha,K = 0.01,10\n",
        "d,q1,q2 = 3,2,3\n",
        "# these are the data\n",
        "x = np.random.normal(size=(d,1))\n",
        "y = np.random.normal(size=(d,1))\n",
        "# these are all the parameters\n",
        "A1 = np.random.normal(size=(q1,d))\n",
        "b1 = np.random.normal(size=(q1,1))\n",
        "A2 = np.random.normal(size=(q2,q1))\n",
        "b2 = np.random.normal(size=(q2,1))\n",
        "\n",
        "# the parameters are passed into the function as a vector\n",
        "# https://stackoverflow.com/questions/8672005/correct-usage-of-fmin-l-bfgs-b-for-fitting-model-parameters\n",
        "def objective(parameters):\n",
        "    # parameters get unpacked into their model form\n",
        "    A1 = parameters[0:(q1*d)].reshape(q1,d)\n",
        "    b1 = parameters[(q1*d):(q1*d+q1)].reshape(q1,1)\n",
        "    A2 = parameters[(q1*d+q1):(q1*d+q1+q2*q1)].reshape(q2,q1)\n",
        "    b2 = parameters[(q1*d+q1+q2*q1):].reshape(q2,1)\n",
        "    # this is the model form\n",
        "    x1 = A1@x+b1\n",
        "    x1 = x1*(x1>0)\n",
        "    x2 = A2@x1+b2\n",
        "    # here's the residual from the prediction of this model\n",
        "    epsilon = y-x2\n",
        "    # and here's the loss function\n",
        "    return epsilon.T.dot(epsilon)[0,0]**0.5\n",
        "\n",
        "# https://stackoverflow.com/questions/8672005/correct-usage-of-fmin-l-bfgs-b-for-fitting-model-parameters\n",
        "fmin_l_bfgs_b(func=objective, x0=np.ones(q1*d+q1+q2*q1+q2), approx_grad=True, m=4)\n",
        "# showing this for a latent dimension of 4 (1 or 2 does not work)"
      ],
      "metadata": {
        "colab": {
          "base_uri": "https://localhost:8080/"
        },
        "id": "jmz4h2aUUq1x",
        "outputId": "72898139-ee4f-4c63-be01-83e291562331"
      },
      "execution_count": null,
      "outputs": [
        {
          "output_type": "execute_result",
          "data": {
            "text/plain": [
              "(array([-0.96574897,  0.52026429,  0.89394679, -0.96574897,  0.52026429,\n",
              "         0.89394679, -0.09902591, -0.09902591, -0.28444771, -0.28444771,\n",
              "         0.11431961,  0.11431961,  0.09486785,  0.09486785, -1.86349271,\n",
              "        -0.2773882 , -0.35475898]),\n",
              " 4.948635670380259e-09,\n",
              " {'grad': array([0.        , 0.        , 0.        , 0.        , 0.        ,\n",
              "         0.        , 0.        , 0.        , 0.        , 0.        ,\n",
              "         0.        , 0.        , 0.        , 0.        , 0.04907721,\n",
              "         0.72439173, 0.68331158]),\n",
              "  'task': 'CONVERGENCE: REL_REDUCTION_OF_F_<=_FACTR*EPSMCH',\n",
              "  'funcalls': 972,\n",
              "  'nit': 24,\n",
              "  'warnflag': 0})"
            ]
          },
          "metadata": {},
          "execution_count": 142
        }
      ]
    },
    {
      "cell_type": "code",
      "source": [
        "# Indeed this converges for BFGS with rank 4\n",
        "fit_parameters = fmin_l_bfgs_b(func=objective, x0=np.ones(q1*d+q1+q2*q1+q2), approx_grad=True, m=4)[0]\n",
        "A1 = fit_parameters[0:(q1*d)].reshape(q1,d)\n",
        "b1 = fit_parameters[(q1*d):(q1*d+q1)].reshape(q1,1)\n",
        "A2 = fit_parameters[(q1*d+q1):(q1*d+q1+q2*q1)].reshape(q2,q1)\n",
        "b2 = fit_parameters[(q1*d+q1+q2*q1):].reshape(q2,1)\n",
        "x1 = A1@x+b1\n",
        "x1 = x1*(x1>0)\n",
        "x2 = A2@x1+b2\n",
        "np.c_[y,x2]"
      ],
      "metadata": {
        "colab": {
          "base_uri": "https://localhost:8080/"
        },
        "id": "p0UR0mJ4aWGP",
        "outputId": "ba0b0f38-034b-4069-d9d4-c7a6fe7dac06"
      },
      "execution_count": null,
      "outputs": [
        {
          "output_type": "execute_result",
          "data": {
            "text/plain": [
              "array([[-1.8634927 , -1.86349271],\n",
              "       [-0.2773882 , -0.2773882 ],\n",
              "       [-0.35475898, -0.35475898]])"
            ]
          },
          "metadata": {},
          "execution_count": 147
        }
      ]
    },
    {
      "cell_type": "markdown",
      "source": [
        "<a name=\"cell-opt-fx-common-optimization-algorithms\"></a>\n",
        "\n",
        "## 10.1.2 Gradient Methods ([Return to TOC](#cell-TOC-opt)) \n",
        "\n",
        "---\n",
        "\n",
        "***Gradient methods*** dispense with approximating the ***Hessian*** and ignoring it entirely, replacing $H_{g(\\theta)}$ with the identity matrix $I$.  They then focus on improving the computation and performance of the ***gradient*** $\\nabla_\\theta g(\\theta)$. This makes a lot of sense in the context of ***non-convex*** functions where the ***Hessian*** $H_{g(\\theta)}$ cannot reliably support convergence towards a global optimum. And, since many modern optimization contexts involve ***non-convex*** functions, ***gradient methods*** have become ubiquitous features of the modern optimization toolkit. \n",
        "\n",
        "> Even for ***convex*** $g(\\theta)$ the compelling argument for ***gradient methods*** over ***Newton's method*** is that they may be more computationally efficient overall.  If the computation of the ***Hessian*** is expensive relative to the computations of the ***gradient*** (as is generally the case), then skipping the ***Hessian*** computation means more update steps based on cheaper ***gradient*** computations can be made, and this may end up being more computationally efficient overall. \n",
        "\n",
        "The following ***gradient methods*** are frequently encountered in modern optimization contexts.\n",
        "\n",
        "- ***Stochastic Gradient Descent*** $x^{(t+1)} = x^{(t)} - \\alpha I \\widehat{\\nabla_x g(x^{(t)})}$\n",
        "  - replaces the Hessian $H_{g(\\theta)}$ with the identity matrix $I$\n",
        "  - uses a step size factor $\\alpha_t$ which may evolve according to a prescribed schedule\n",
        "  - and makes steps using gradients estimated from small ***batches*** (e.g., $m=32$ observations) rather than all of the available data\n",
        "\n",
        "    $$\\frac{1}{m} \\sum_{i=1}^m \\nabla_\\theta g_{x_i}(\\theta_{t-1}) = \\nabla_\\theta \\frac{1}{m} \\sum_{i=1}^m g_{x_i}(\\theta_{t-1}) \\quad \\text{ estimates } \\quad E_x\\left[ \\nabla_\\theta g_x(\\theta_{t-1}) \\right]$$\n",
        "<!-- = \\nabla_\\theta g(\\theta_{t-1}) -->\n",
        "\n",
        "  Sequences of ***batches*** constructed from the full data comprise one ***epoch***, and a sequence of ***stochastic gradient descent*** steps are often constructed from multiple ***epochs***, i.e., many passes through many batches of data.\n",
        "\n",
        "  > ***Stochastic gradient descent*** drastically reduces computation because roughly accurate estimates of the gradients can be easily computed without having to use all the data.\n",
        "  >\n",
        "  > More than that, however, estimating gradients from batches is empirically observed to outperform calculating gradients based on the full data set. \n",
        "  > - ***Stochastic gradient descent*** introduces noise into the iterative trajectory which increases the exploration potential of the $\\theta_t$ sequence, making it less likely to coverge (***overfit***) on a suboptimal local minima; and, even within an attractive region of a local minima the $\\theta_t$ sequence is ***regularized*** in the sense that it will never actually achieve the local minima value since the estimated gradient will be different for each ***batch*** of data. \n",
        "\n",
        "  \n",
        "\n",
        "- ***Momentum*** replaces the gradient with a running average using prescribed ***learning rate*** $\\alpha_t$ and ***historic decay*** weighting schedules $\\epsilon_t$ as\n",
        "\n",
        "  $$\\begin{align*}\n",
        "  v_t = {} & \\epsilon_t v_{t-1} + \\alpha_t \\nabla_\\theta \\frac{1}{m} \\sum_{i=1}^m g_{x_i}(\\theta_{t-1})\\\\\n",
        "  \\theta_t = {} & \\theta_{t-1} - v_t\n",
        "  \\end{align*}$$\n",
        "\n",
        "  - ***Neterov Momentum*** is a slight variant based on the \"look ahead\" update $$\\begin{align*}\n",
        "  v_t = {} & \\epsilon_t v_{t-1} + \\alpha_t \\nabla_\\theta \\frac{1}{m} \\sum_{i=1}^m g_{x_i}(\\theta_{t-1} + \\epsilon_{t} v_{t-1})\n",
        "  \\end{align*}$$\n",
        "\n",
        "    though this typically has equivalent performance to the original ***momentum*** specification.\n",
        "\n",
        "  The idea of ***momentum*** is to use the ***gradient*** history information instead of the ***Hessian*** at each update step to predict the shape of the function being optimized.  The assumption underlying ***momentum*** is that previous ***gradients*** are good estimates of future ***gradients***. \n",
        "\n",
        "> ***Momentum*** takes the form\n",
        ">\n",
        "> $$v_t = \\sum_{j=1}^{t} \\underbrace{\\left[\\prod_{k=j}^{t-1} \\epsilon_{k+1} \\right]}_{1 \\text{ if } k=t\\;>\\;t-1} \\alpha_j \\underbrace{\\nabla_\\theta \\frac{1}{m} \\sum_{i=1}^m g_{x_i}(\\theta_{j-1})}_{\\widehat{\\nabla_\\theta g(\\theta_{j-1})}}$$\n",
        ">\n",
        "> for which there exists some vector $d_t$ that accounts for the difference between $v_t$ and $\\epsilon_t v_{t-1}$ such that\n",
        ">\n",
        "> $$ v_t = \\alpha_t \\underbrace{d_t \\odot \\overbrace{\\nabla_\\theta \\frac{1}{m} \\sum_{i=1}^m g_{x_i}(\\theta_{t-1})}^{\\widehat{\\nabla_\\theta g(\\theta_{t-1})}}}_{\\text{element-wise multiplication}}$$\n",
        ">\n",
        "> The ***momentum*** update \n",
        "> \n",
        "> $$\\theta_t = \\theta_{t-1} - \\alpha_t d_t \\odot \\widehat{\\nabla_\\theta g(\\theta_{t-1})} = \\underbrace{\\theta_{t-1} - \\alpha_t D_t^{-1} \\widehat{\\nabla_\\theta g(\\theta_{t-1})}}_{\\text{expressed as diagonal matrix } D_t^{-1}}$$ \n",
        ">\n",
        "> can thus be viewed as a diagonal alternative to ***Newton's method*** where the $D_t$ replaces the diagonal elements of the ***Hessian*** $H_{g(\\theta)}$ with values based on the decay weighted history of ***gradients*** which force a trajectory that is a decay weighted average of the ***gradient*** history."
      ],
      "metadata": {
        "id": "RmR6E2Nlmzfs"
      }
    },
    {
      "cell_type": "markdown",
      "source": [
        "<a name=\"cell-opt-fx-common-optimization-algorithms2\"></a>\n",
        "\n",
        "### Hessian Diagonal Alternatives ([Return to TOC](#cell-TOC-opt)) \n",
        "\n",
        "---\n",
        "\n",
        "***Diagonal approximations*** $H_{g(\\theta)} \\approx I \\circ H_{g(\\theta)} = D_\\gamma$ which ignore the off-diagonal elements of the Hessian attempt to approximate the second order partial derivatives as \n",
        "\n",
        "$$[D_{\\gamma}]_{ii} = \\frac{\\partial^2 g (\\theta)}{\\partial\\theta_i\\partial\\theta_i} \\approx \\gamma_i \\quad \\text{ and } \\quad [D_{\\gamma}]_{ij} = \\frac{\\partial^2 g( \\theta)}{\\partial\\theta_i\\partial\\theta_j} \\approx 0$$ \n",
        "\n",
        "and approximate ***Newton's method*** as \n",
        "\n",
        "$$ \\theta^{(t+1)} = \\theta^{(t)} - D_\\gamma^{-1} \\nabla_\\theta g(\\theta^{(t)}) $$\n",
        "\n",
        "As the example of ***momentum*** above shows, other alternatives for the diagonal of the ***Hessian*** are possible.\n",
        "\n",
        "- ***Adagrad*** enables coordinate-specific learning rates by weighting the elements of a gradient step inversely to the magnitude of the step sizes accumulated along the axis so far as\n",
        "\n",
        "  $$\\begin{align*}\n",
        "  g_t = {} & \\nabla_\\theta \\frac{1}{m} \\sum_{i=1}^m g_{x_i}(\\theta_{t-1})\\\\\n",
        "  r_t = {} & r_{t-1} + g_t \\odot g_t \\quad \\text{  element-wise product}\\\\\n",
        "  \\theta_t = {} & \\theta_{t-1} - \\frac{\\alpha_t}{\\delta_t+\\sqrt{r_t}} \\odot g_t \\quad \\text{  element-wise square root, division, and product}\n",
        "  \\end{align*}$$\n",
        "\n",
        "  where the square root transforms the sum back to original units, and $\\delta_t>0$ ensures division by $0$ is avoided. \n",
        "  \n",
        "  > The effect of the method is to make step sizes smaller along fast-moving axes and larger along slow-moving axes.\n",
        "\n",
        "\n",
        "- **RMSprop** replaces the accumulation in ***Adagrad*** with a decaying running average\n",
        "\n",
        "  $$\\begin{align*}\n",
        "  r_t = {} & \\rho r_{t-1} + (1-\\rho) g_t \\odot g_t\n",
        "  \\end{align*}$$\n",
        "\n",
        "  which allows for the application of locally variying coordinate-specific learning rates.\n",
        "\n",
        "  ***RMSprop*** also admits the subsequent incorporation of ***Momentum*** as $$\\begin{align*}\n",
        "  v_t = {} & \\epsilon_t v_{t-1} + \\frac{\\alpha_t}{\\delta_t+\\sqrt{r_t}} \\odot g_t\\\\\n",
        "  \\theta_t = {} & \\theta_{t-1} - v_t\n",
        "  \\end{align*}$$\n",
        "\n",
        "  > ***RMSprop*** provides both the coordinate-specific learning rates of  ***Adagrad*** as well as incorporating a ***momentum*** effect.\n",
        "\n",
        "- **Adam** is a slight variant of ***RMSprop*** which directly incorporates ***momentum*** as another decaying running average\n",
        "\n",
        "  $$\\begin{align*}\n",
        "  g_t = {} & \\nabla_\\theta \\frac{1}{m} \\sum_{i=1}^m g_{x_i}(\\theta_{t-1})\\\\\n",
        "  v_t = {} & \\rho_v v_{t-1} + (1-\\rho_v) g_t \\quad\\quad \\times \\frac{1}{1-\\rho_v^t} \\text{ to correct if } v_0 = 0  \\\\\n",
        "  r_t = {} & \\rho_s r_{t-1} + (1-\\rho_s) g_t \\odot g_t \\quad \\quad \\times  \\frac{1}{1-\\rho_s^t} \\text{ to correct if } r_0=0 \\\\\n",
        "  \\theta_t = {} & \\theta_{t-1} - \\frac{\\alpha_t}{\\delta_t+\\sqrt{r_t}} \\odot v_t\n",
        "  \\end{align*}$$\n",
        "\n",
        "  > The performance of ***Adam*** is often equivalent to that of ***RMSprop*** with ***momentum***. \n",
        "\n",
        "> Emtiyaz Khan characterizes these common algorithms as varying degrees of approximation to \"Bayesian Learning Rules\" in this [presentation](https://slideslive.com/38923183/deep-learning-with-bayesian-principles), starting around slide 60."
      ],
      "metadata": {
        "id": "i8uxNG3nfDJ2"
      }
    },
    {
      "cell_type": "code",
      "source": [
        "# These popular iterative optimization techniques are readily\n",
        "# available in modern computational frameworks like tensorflow\n",
        "\n",
        "np.random.seed(3)\n",
        "alpha,K = 0.01,10\n",
        "d,q1,q2 = 3,2,3\n",
        "x = tf.constant(np.random.normal(size=(d,1)))\n",
        "y = tf.constant(np.random.normal(size=(d,1)))\n",
        "A1 = tf.Variable(np.random.normal(size=(q1,d)))\n",
        "b1 = tf.Variable(np.random.normal(size=(q1,1)))\n",
        "A2 = tf.Variable(np.random.normal(size=(q2,q1)))\n",
        "b2 = tf.Variable(np.random.normal(size=(q2,1)))\n",
        "\n",
        "@tf.function()\n",
        "def objective():\n",
        "    x1 = A1@x+b1\n",
        "    x1 = x1*tf.cast(x1>0, tf.float64)\n",
        "    x2 = A2@x1+b2\n",
        "    epsilon = y-x2   \n",
        "    return tf.tensordot(tf.transpose(epsilon), epsilon, axes=1)**(0.5)\n",
        "\n",
        "# https://www.tensorflow.org/api_docs/python/tf/keras/optimizers/schedules\n",
        "alpha_t, epsilon_t = 0.1,0.5\n",
        "sgd = SGD(learning_rate=alpha_t, momentum=epsilon_t, nesterov=True)\n",
        "adagrad = Adagrad(learning_rate=alpha_t)\n",
        "rho_t = 0.5\n",
        "rmsprop = RMSprop(learning_rate=alpha_t, rho=rho_t, momentum=epsilon_t)\n",
        "rho_v_t, rho_s_t = epsilon_t, rho_t\n",
        "adam = Adam(learning_rate=alpha_t, beta_1=rho_v_t, beta_2=rho_s_t)\n",
        "\n",
        "steps = 10\n",
        "for t in range(steps):\n",
        "  sgd.minimize(objective, var_list=[A1, b1, A2, b2])\n",
        "  #adagrad.minimize(objective, var_list=[A1, b1, A2, b2])\n",
        "  #rmsprop.minimize(objective, var_list=[A1, b1, A2, b2])\n",
        "  #adam.minimize(objective, var_list=[A1, b1, A2, b2])\n",
        "print(objective())\n",
        "\n",
        "x1 = A1@x+b1\n",
        "x1 = x1*tf.cast(x1>0, tf.float64)\n",
        "x2 = A2@x1+b2\n",
        "x2,y"
      ],
      "metadata": {
        "colab": {
          "base_uri": "https://localhost:8080/"
        },
        "id": "y_1S_UjKhpGK",
        "outputId": "5397fea3-223f-4b0b-cb0b-92b4299ccd2a"
      },
      "execution_count": null,
      "outputs": [
        {
          "output_type": "stream",
          "name": "stdout",
          "text": [
            "tf.Tensor([[1.18176167]], shape=(1, 1), dtype=float64)\n"
          ]
        },
        {
          "output_type": "execute_result",
          "data": {
            "text/plain": [
              "(<tf.Tensor: shape=(3, 1), dtype=float64, numpy=\n",
              " array([[-1.52092405],\n",
              "        [ 0.37256329],\n",
              "        [ 0.57085996]])>, <tf.Tensor: shape=(3, 1), dtype=float64, numpy=\n",
              " array([[-1.8634927 ],\n",
              "        [-0.2773882 ],\n",
              "        [-0.35475898]])>)"
            ]
          },
          "metadata": {},
          "execution_count": 100
        }
      ]
    },
    {
      "cell_type": "markdown",
      "source": [
        "<a name=\"cell-opt-fx-fisher\"></a>\n",
        "\n",
        "## 10.1.3 Fisher Scoring ([Return to TOC](#cell-TOC-opt)) \n",
        "\n",
        "---\n",
        "\n",
        "For the MLE context where $g(x) \\equiv l(\\theta)$ the [Fisher information](https://math.stackexchange.com/questions/3585130/why-is-the-fisher-information-matrix-both-an-expected-outer-product-and-a-hessia)\n",
        "\n",
        "$$I(\\theta) = {E[\\nabla_\\theta l(\\theta)\\nabla_\\theta l(\\theta)^T]} = E[ {{-\\underbrace{H_{l(\\theta)}(\\theta)}_{J(\\nabla_\\theta l(\\theta))(\\theta)}}}]$$\n",
        "\n",
        "suggest a slight variation on ***Newton's method*** known as ***Fisher scoring***\n",
        "\n",
        "$$\\begin{align*}\n",
        "\\theta^{(t+1)}  & {} = \\theta^{(t)} - \\left[H_{l(\\theta)}(\\theta^{(t)})\\right]^{-1}\\nabla_\\theta l(\\theta^{(t)}) \\\\\n",
        "& {} = \\theta^{(t)} + {I(\\theta^{(t)})}{}^{-1}\\nabla_\\theta l(\\theta^{(t)}) \\\\\n",
        "& {} \\approx \\theta^{(t)} + \\hat{I(\\theta^{(t)})}{}^{-1}\\nabla_\\theta l(\\theta^{(t)}) \\\\\n",
        "& {} = \\theta^{(t)} + \\left[\\sum_{i=1}^n \\nabla_\\theta log f(x_i|\\theta)\\big|_{\\hat \\theta}\\left(\\nabla_\\theta log f(x_i| \\theta)\\big|_{\\hat \\theta}\\right)^T \\right]^{-1} \\left[\\sum_{i=1}^n \\nabla_\\theta log f(x_i|\\theta)\\big|_{\\hat \\theta}\\right]\\\\\n",
        "& {} \\approx \\theta^{(t)} - H_{l(\\theta)}(\\hat \\theta)^{-1}\\nabla_\\theta l(\\theta^{(t)}) \\\\\n",
        "& {} = \\theta^{(t)} - J(\\nabla_\\theta l)(\\hat \\theta)^{-1}\\nabla_\\theta l(\\theta^{(t)}) \\\\\n",
        "& {} = \\theta^{(t)} - \\left[\\sum_{i=1}^n J( \\nabla_\\theta log f(x_i|\\theta))\\big|_{\\hat \\theta} \\right]^{-1} \\left[\\sum_{i=1}^n \\nabla_\\theta log f(x_i|\\theta)\\big|_{\\hat \\theta}\\right]\n",
        "\\end{align*}$$\n",
        "\n",
        "\n",
        "***Fisher scoring*** which approximates the ***expected*** information (i.e., the negative Hessian) with the ***observed*** information\n",
        "\n",
        "$$\\begin{align*}\n",
        "  M = -I(\\theta^{(t)}) = {} & -E[\\nabla_\\theta l(\\theta^{(t)})\\nabla_\\theta l(\\theta^{(t)})^T] = E[H_{l(\\theta)}l(\\theta^{(t)})]\\\\\n",
        "  \\approx {} & -\\sum_{i=1}^n \\nabla_\\theta log f_{x_i}(\\theta^{(t)})\\left(\\nabla_\\theta log f_{x_i}(\\theta^{(t)})\\right)^T \\approx  H_{l(\\theta)}l(\\theta^{(t)}) \n",
        "  \\end{align*}$$\n",
        "\n",
        "\n",
        "\n",
        "> ***Fisher information*** $I(\\theta^{(t)})$ is [***positive semi-definite***](https://stats.stackexchange.com/questions/49942/why-is-the-fisher-information-matrix-positive-semidefinite), so for some small step size factor $\\alpha^{(t)}>0$\n",
        "   > - the update $\\theta^{(t+1)} = \\theta^{(t)} + \\underbrace{\\alpha^{(t)}[I(\\theta^{(t)})]^{-1}\\nabla_\\theta l(\\theta^{(t)})}_{\\text{will have the same sign as }\\nabla_\\theta g(\\theta^{(t)})}$ \n",
        "   > - guarantees that $f(x^{(t+1)}) > f(x^{(t)})$\n",
        "   >\n",
        "   > and at a (local) maximum $\\theta^*$ where $\\nabla_\\theta l(\\theta^*)=0$, both $H_{l(\\theta)}(\\theta^*)$ and $E[H_{l(\\theta)}(\\theta^*)] = -I(\\theta^*)$ will be ***negative semi-definite***.\n"
      ],
      "metadata": {
        "id": "mnpOXTFf94Ic"
      }
    },
    {
      "cell_type": "markdown",
      "source": [
        "<a name=\"cell-opt-fx-irls\"></a>\n",
        "\n",
        "### Iteratively Reweighted Least Squares (IRLS) ([Return to TOC](#cell-TOC-opt)) \n",
        "\n",
        "---\n",
        "\n",
        "<!-- https://stats.stackexchange.com/questions/344309/why-using-newtons-method-for-logistic-regression-optimization-is-called-iterati -->\n",
        "\n",
        "In ***exponential family*** form, the ***log likelihood*** of the ***logistic regression*** (***generalized linear model***) is\n",
        "\n",
        "$$l(\\beta) = \\overbrace{y^t Z\\beta - \\mathbf{1}^T \\underbrace{\\log \\left(1 + \\exp(Z\\beta) \\right)}_{g(Z\\beta)}}^{\\log f(y|\\theta) \\;= \\;[y\\theta - b(\\theta)]/a(\\phi)+c(y,\\phi)}$$\n",
        "\n",
        "> where \n",
        "> - $\\Pr(y_i=1) = \\underset{\\text{a property of the exponential family}}{E[y_i] = \\frac{d}{d\\theta_i} \\overbrace{\\log \\left(1 + \\exp(\\theta_i) \\right)}^{g(\\theta_i)\\;=\\;g(z_i^T\\beta)}} = \\frac{\\exp(\\theta_i)}{1 + \\exp(\\theta_i)} = \\frac{1}{1 + \\exp(-\\theta_i)}$\n",
        "> - the ***natural parameter*** $\\theta_i =  z_i^T\\beta = \\log\\left(\\frac{\\Pr(y_i=1)}{1-\\Pr(y_i=1)} \\right)$ is the ***log odds***\n",
        ">\n",
        ">  - $\\log\\left(\\frac{\\Pr(y_i=1)}{1-\\Pr(y_i=1)} \\right) = \\log \\left( \\frac{\\frac{\\exp(\\theta_i)}{1 + \\exp(\\theta_i)}}{\\frac{1}{1 + \\exp(\\theta_i)}} \\right) = \\log(\\exp(\\theta_i)) = \\theta_i$\n",
        ">\n",
        "> - and the ***gradient*** and ***Information*** and ***Hessian*** are \n",
        ">\n",
        ">  $$\n",
        "  \\begin{align*}\n",
        "  \\nabla_\\beta l(\\beta)  & = {}Z^Ty - Z^T\\frac{\\exp(Z\\beta)}{1+\\exp(Z\\beta)} = Z^Ty - Z^T\\frac{1}{1+\\exp(-Z\\beta)} = Z^T(y-E[y]) \\\\\n",
        "  & = {} Z^Ty - Z^T(1+\\exp(-Z\\beta))^{-1} \\\\\n",
        "  I(\\beta) & = {} E\\left[ Z^T (Y-E[Y])(Y-E[Y])^T Z\\right] \n",
        "   = Z^T Cov\\left(Y\\right)Z{} = Z^T\\overbrace{\\text{diag}(E[Y_i](1-E[Y_i]))}^{\\text{diag}(p_i(1-p_i)) \\text{ for i.i.d. Bernoulli}}Z \\\\\n",
        "  & = - E[H_{l(\\beta)}(\\beta)] = -H_{l(\\beta)}(\\beta)  \\\\\\\\\n",
        "  H_{l(\\beta)}(\\beta) & = {} -Z^TWZ \\quad \\text{ where } \\quad W_{ij}=0 \\text{ for } i\\not=j \\\\\n",
        "  & \\quad\\quad\\quad\\quad\\quad\\quad\\quad\\, \\text{ and } \\quad W_{ii} = \\frac{\\exp(-z_i\\beta)}{\\left(1+\\exp(-z_i\\beta)\\right)^2} = \\frac{1}{1+\\exp(-z_i\\beta)}\\frac{\\exp(-z_i\\beta)}{1+\\exp(-z_i\\beta)} \\\\\n",
        "  &  \\quad\\quad\\quad\\quad\\quad\\quad\\quad\\quad\\quad\\quad\\quad\\, = E[y_i](1-E[y_i])\n",
        "  \\end{align*}$$\n",
        "\n",
        "Thus, ***Newton's method*** is \n",
        "$$\\beta^{(t+1)} = \\beta^{(t)} - \\underbrace{\\overbrace{( -Z^T \\overset{(t)}{W}Z )^{-1}}^{H_{l(\\beta)}(\\beta^{(t)})^{-1}} \\overbrace{Z^T(y-\\overset{(t)}{E[y]})}^{\\nabla_\\beta l(\\beta^{(t)})}}_{\\text{$E[y]$ (and hence $W$) depends on $\\beta^{(t)}$}}$$\n",
        "which is identical to ***Fisher scoring***\n",
        "$$\\beta^{(t+1)} = \\beta^{(t)} + \\underbrace{\\!{I(\\beta^{(t)})\\!}}_{-H_{l(\\beta)}(\\beta^{(t)})}\\!\\!{}^{-1} Z^T(y-\\overset{(t)}{E[y]})$$\n",
        "\n",
        "And by reorganizing the terms\n",
        "\n",
        "> $$\\begin{align*}\n",
        "\\beta^{(t+1)} = {} & \\beta^{(t)} + I(\\beta)^{-1} Z^T(y-\\overset{(t)}{E[y]})\\\\\n",
        " = {} & I(\\beta)^{-1} \\left( I(\\beta) \\beta^{(t)} + Z^T\\underbrace{\\overset{(t)}{W}\\overset{(t)}{W}{}^{-1}}(y-\\overset{(t)}{E[y]})\\right)\\\\\n",
        " = {} & I(\\beta)^{-1} \\left( \\underbrace{Z^T \\overset{(t)}{W}Z}_{I(\\beta)} \\beta^{(t)} + Z^T\\overset{(t)}{W} \\underbrace{(\\tilde y^{(t)}-Z\\beta^{(t)})}_{\\dagger}\\right)\\\\\n",
        " & \\quad\\quad\\;\\; \\dagger \\longrightarrow \\tilde y^{(t)} = Z\\beta^{(t)}+ \\overset{(t)}{W}{}^{-1}(y- \\overset{(t)}{E[y]}) \\\\\n",
        " = {} & \\underbrace{\\left(Z^T \\overset{(t)}{W}Z\\right)^{-1} \\!\\! Z^T\\overset{(t)}{W} \\tilde y^{(t)}}_{\\text{which is weighted least squares}}\n",
        "\\end{align*}$$\n",
        "\n",
        "these updates can be recognized as specifying a ***weighted least squares*** problem. Thus, the ***iteratively reweighted least squares*** method fits a ***logistic regression*** by \n",
        "\n",
        "0. initializing $\\beta^{(0)}$ which implies $W^{(0)}$ and $E[y]^{(0)}$\n",
        "\n",
        "   and then repeatedly iteratively updating between\n",
        "\n",
        "1. updating $y^{(t)}$ with $\\dagger$ based on $W^{(t)}$ and $E[y]^{(t)}$\n",
        "\n",
        "2. $\\beta^{(t+1)}$ with the solution to a ***weighted least squares*** problem.\n",
        "\n",
        "- The implementation of an IRLS method will be addressed in [Programming Portfolio Assignment 5 Problem 2](#cell-opt).\n",
        "\n",
        "<!--\n",
        "Indeed, the function being optimized by ***IRLS*** is the ***least squares*** problem for a ***linear approximiation*** of ***linear regression*** for a ***nonlinear model*** of ***logistic regression***. It thus turns out that the ***Newton's method*** which is equivalent ***Fisher scoring*** for this problem, are both as well equivalent to the ***Gauss-Newton*** solution to this problem.  -->"
      ],
      "metadata": {
        "id": "pB6QPLy_9xVV"
      }
    },
    {
      "cell_type": "markdown",
      "source": [
        "\n",
        "\n",
        "<a name=\"cell-opt-fx-quasi\"></a>\n",
        "\n",
        "### Quasi-Likelihood ([Return to TOC](#cell-TOC-opt)) \n",
        "\n",
        "---\n",
        "\n",
        "***Generalized linear models*** such as ***logistic regression*** ***poisson regression*** embed their parameters\n",
        "\n",
        "\\begin{align*}\n",
        "\\text{E}[y_i|x_i] & ={} \\mu_i = \\phi^{-1}(\\theta_i = x_i^T \\beta)\\\\\n",
        "\\text{Var}[y_i|x_i] & ={} V(\\mu_i)\n",
        "\\end{align*}\n",
        "\n",
        "within a specific ***log likelihood*** form. However, if the ***log likelihood*** does not have an explicit form, the parameters $\\beta$ can still be estimated through an implicitly defined ***quasi-likehood*** $q(x|\\mu)$ via the differential equation\n",
        "\n",
        "$$\\frac{d}{d\\mu_i} q(x|\\mu_i) = \\frac{y_i-\\mu_i}{V(\\mu_i)} $$\n",
        "\n",
        "With this expression \n",
        "\n",
        "\\begin{align*}\n",
        "\\nabla_{\\beta} q(x|\\mu_i) & = {} \\frac{d}{d\\mu_i} q(x|\\mu_i) \\underbrace{\\frac{d}{d\\theta} \\phi^{-1}(\\theta_i)}_{\\text{derivative of inverse}} \\nabla_{\\beta} x_i^T \\beta \\\\\n",
        "& = {} \\frac{y_i-\\mu_i}{V(\\mu_i)} \n",
        "\\left( \\phi'(\\phi^{-1}(x_i^T \\beta)) \\right)^{-1} x_i \\\\\n",
        "\\end{align*}\n",
        "\n",
        "and the ***Fisher information*** of $\\beta$ for observation $i$ is\n",
        "\n",
        "\\begin{align*}\n",
        "\\mathcal{I}_i(\\beta) = \\text{E}_Y[\\nabla_{\\beta} q(x|\\mu_i) \\nabla_{\\beta} q(x|\\mu_i)^T] & = {} \\frac{\\text{E}_Y[(y_i-\\mu_i)^2] x_ix_i^T}{V(\\mu_i)^2 \\left( \\phi'(\\phi^{-1}(x_i^T \\beta)) \\right)^{2}}\\\\\n",
        "& = {} \\frac{x_ix_i^T}{V(\\mu_i)\\left( \\phi'(\\phi^{-1}(x_i^T \\beta)) \\right)^{2}}\n",
        "\\end{align*}\n",
        "\n",
        "so the ***Fisher scoring*** alternative to ***Newton's method*** to optimize the parameters $\\beta$ is\n",
        "\n",
        "$$\\beta^{(t+1)} = \\beta^{(t)} + \\mathcal{I}_i(\\beta)^{-1}\\nabla_{\\beta} q(x|\\mu_i)$$\n",
        "\n",
        "Setting $W$ as the diagonal matrix with $W_{ii}=\\frac{1}{V(\\mu_i)\\left( \\phi'(\\phi^{-1}(x_i^T \\beta)) \\right)^{2}}$ the ***Fisher scoring*** update can be generalizing to the complete sample\n",
        "\n",
        "\\begin{align*}\n",
        "\\beta^{(t+1)} & = {} \\beta^{(t)} + (\\underbrace{X^TWX}_{\\mathcal{I}(\\beta)})^{-1}  X^TW \\left( \\phi'(\\mu) \\odot(y-\\mu) \\right)\\\\\n",
        "& = {} (X^TWX)^{-1}  X^TW \\underbrace{\\left(X\\beta^{(t)} + \\phi'(\\mu) \\odot(y-\\mu) \\right)}_{\\tilde y}\n",
        "\\end{align*}\n",
        "\n",
        "where $\\mu = \\phi^{-1}(X \\beta)$ and $\\odot$ indicates elementwise multiplication. \n",
        "\n",
        "But this shows that $\\beta^{*}$ is found as a sequence of ***iteratively reweighted least squares*** problems. "
      ],
      "metadata": {
        "id": "N2dkqvio-cv5"
      }
    },
    {
      "cell_type": "markdown",
      "source": [
        "<a name=\"cell-opt-fx-notnewt\"></a>\n",
        "\n",
        "# 10.2 Not Newton's Method ([Return to TOC](#cell-TOC-opt)) \n",
        "\n",
        "---\n",
        "\n",
        "***Newton's method*** is not the only tool in the optimization toolbox. Here are some examples \n"
      ],
      "metadata": {
        "id": "xvuRb9s8VSqJ"
      }
    },
    {
      "cell_type": "code",
      "source": [],
      "metadata": {
        "id": "fF9doFbVWNMw"
      },
      "execution_count": null,
      "outputs": []
    },
    {
      "cell_type": "markdown",
      "source": [
        "## 10.2.0 Non-Linear Gauss-Seidel ([Return to TOC](#cell-TOC-opt)) \n",
        "\n",
        "---\n",
        "\n",
        "***Gauss-Seidel*** was previously encountered and seen to be equivalent to ***coordinate descent***. The generalizability of ***Gauss-Seidel*** to nonlinear functions was noted at that time.  \n"
      ],
      "metadata": {
        "id": "LHVPpGcdV9ve"
      }
    },
    {
      "cell_type": "markdown",
      "source": [
        "<a name=\"cell-opt-fx-nelder-mead\"></a>\n",
        "\n",
        "## 10.2.1 Nelder-Mead ([Return to TOC](#cell-TOC-opt)) \n",
        "\n",
        "---\n",
        "\n",
        "So far most of the focus has been on understanding slopes and curvature of functions in order to iteratively \"hill climb\" towards optima. This has been predominantly done through the use of gradiants and hessians; however, the previously introduced ***bisection*** and ***ternary search*** methods were able to find the roots and optima of nonlinear functions in a gradient-free manner. Another such method is the ***Nelder-Mead algorithm***, which prescribes a gradient-free optimization approach by substituing a (slow yet) robust heuristic algorithm in place of potentially expensive and unstable derivative computations.  \n",
        "\n",
        "- Gradient-based methods are great when they work since they specifically leverage information about the function in question that is helpful for solving the problem at hand; however, when they fail, the more robust gradient-free methods present a very attractive, albeit more computationally demanding alternative.\n",
        "- Gradient-free methods are generally more robust than their gradient-based counterparts; thus, when the computation required for gradient-free methods is tractable, they present a more general solution that gradient-based methods\n",
        "\n",
        "Here are some fun visualations illustrating the ***Nelder-Mead method***. The ***Nelder-Mead algorithm*** is relatively simple (and widely available, e.g., fully detailed in both James E. Gentle's as well as the Givens and Hoeting *Computational Statistics* textbooks); though, certainly it requires a careful and attentive implementation.   \n",
        "\n",
        "| | |\n",
        "|-|-|\n",
        "|![](http://takashiida.floppy.jp/wp-content/uploads/2020/11/05NelderMead-1.gif)| ![](https://userpages.umbc.edu/~rostamia/2020-09-math625/images/nelder-mead.gif) |\n",
        "| [Takashi Ida's Personal Website](http://takashiida.floppy.jp/en/education-2/gif-nelder-mead/) |  [Rouben Rostamian's (UMBC) Comp Math + C](https://userpages.umbc.edu/~rostamia/2020-09-math625/) |\n",
        "| ![](https://upload.wikimedia.org/wikipedia/commons/thumb/d/de/Nelder-Mead_Himmelblau.gif/640px-Nelder-Mead_Himmelblau.gif)| ![](https://upload.wikimedia.org/wikipedia/commons/0/08/Nelder_Mead2vectorised.gif) |\n",
        "| [Wikepedia's Nelder-Mead page](https://en.wikipedia.org/wiki/Nelder%E2%80%93Mead_method) |\n",
        "| ![](http://fab.cba.mit.edu/classes/864.14/students/Calisch_Sam/10/img/nelder-mead.gif) | ![](https://upload.wikimedia.org/wikipedia/commons/1/14/Direct_search_BROYDEN.gif) | \n",
        "| [Sam Calisch's homework submission for MIT MAS 864](http://fab.cba.mit.edu/classes/864.14/students/Calisch_Sam/10/img/nelder-mead.gif) | [Wikipedia's Pattern Search page (a different but similar method)](https://en.wikipedia.org/wiki/Pattern_search_(optimization))|"
      ],
      "metadata": {
        "id": "xqJHwdBQgqMp"
      }
    },
    {
      "cell_type": "code",
      "source": [],
      "metadata": {
        "id": "Kakkz8gjg9I_"
      },
      "execution_count": null,
      "outputs": []
    },
    {
      "cell_type": "markdown",
      "source": [
        "<!--\n",
        "\n",
        "Quantile Regression\n",
        "\n",
        "lasso\n",
        "\n",
        "SGD\n",
        "-->\n"
      ],
      "metadata": {
        "id": "Gqjiu3vX_G2D"
      }
    },
    {
      "cell_type": "markdown",
      "source": [
        "<!--\n",
        "\n",
        "Quantile Regression\n",
        "\n",
        "lasso\n",
        "\n",
        "SGD\n",
        "-->\n"
      ],
      "metadata": {
        "id": "OeBIFfpHg5Kk"
      }
    },
    {
      "cell_type": "code",
      "source": [],
      "metadata": {
        "id": "F4yjGu9Ng3Sy"
      },
      "execution_count": null,
      "outputs": []
    }
  ]
}